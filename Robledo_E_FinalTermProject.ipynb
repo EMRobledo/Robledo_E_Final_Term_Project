{
 "cells": [
  {
   "cell_type": "markdown",
   "metadata": {},
   "source": [
    "# \"On my honor, as a student, I have neither given nor received unauthorized aid on this academic work.\""
   ]
  },
  {
   "cell_type": "raw",
   "metadata": {},
   "source": [
    "FAKEID\tthe ticket buyer's unique ID number\n",
    "YXdefect \t\"X\" indicates the year\n",
    "\tY3defect=1 for year 2 ticket holders that did not renew for year 3\n",
    "\tY3defect=0 for year 2 ticket holders that did renew for year 3\n",
    "\tY2defect=1 for year 1 ticket holders that did not renew for year 2\n",
    "\tY2defect=0 for year 1 ticket holders that did renew for year 2\n",
    "YXGZ\t\"X\" indicates the year, \"Z\" indicates the game\n",
    "\te.g. Y2G4=1 for the tickets being used for game 4 in year 2\n",
    "\te.g. Y2G4=0 for the tickets not being used for game 4 in year 2\n",
    "YXprice\t\"X\" indicates the year\n",
    "\tthe price paid per ticket in the indicated year\n",
    "YEARS\tthe number of years as a season ticket holder\n",
    "BACKER\t1=member of the team's \"backer\" club\n",
    "\t0=not a member of the team's \"backer\" club\n",
    "AGE\tage of the ticket buyer (blank=unknown)\n",
    "INCOME\tincome category of the ticket buyer (0=low, 6=high)\n",
    "CHILD\t1=at least one child age 0-18 in household (blank indicates none or unknown)\n",
    "GNDR\t1=male, 0=female, blank=unknown\n",
    "OWNHOME\t1=owns home, 0=does not own home, blank=unknown\n",
    "SPORT\tpurchased appended data\n",
    "\t1=subscribes to a sports magazine, 0=does not subscribe to a sports magazine, blank = unknown\n",
    "COMP\tpurchased appended data\n",
    "\t1=owns a PC (blank indicates does not own a PC or unknown)\n",
    "PCTMARR\tappended census data at zip code level\n",
    "\tpercentage of married heads of household\n",
    "HOMEVAL\tappended census data at zip code level\n",
    "\taverage value of homes in 1000s of dollars"
   ]
  },
  {
   "cell_type": "markdown",
   "metadata": {},
   "source": [
    "## Business and data understanding"
   ]
  },
  {
   "cell_type": "markdown",
   "metadata": {
    "collapsed": true
   },
   "source": [
    "**Problem Statement:** Identify fans that are most likely to defect, i.e. not renew their season tickets so that your business team can intervene and attempt to retain those fans. "
   ]
  },
  {
   "cell_type": "markdown",
   "metadata": {},
   "source": [
    "By building a prediction model that corresponds to the likehood of fans not renewing their season tickets, you will be able to identify the fans that are risk. Business can gain insight and learn how to retain future and current season ticket holders. "
   ]
  },
  {
   "cell_type": "code",
   "execution_count": 1,
   "metadata": {},
   "outputs": [
    {
     "name": "stderr",
     "output_type": "stream",
     "text": [
      "/anaconda2/lib/python2.7/site-packages/statsmodels/compat/pandas.py:56: FutureWarning: The pandas.core.datetools module is deprecated and will be removed in a future version. Please use the pandas.tseries module instead.\n",
      "  from pandas.core import datetools\n"
     ]
    }
   ],
   "source": [
    "import numpy as np\n",
    "import pandas as pd\n",
    "import matplotlib.pyplot as plt\n",
    "import seaborn as sns\n",
    "%matplotlib inline\n",
    "\n",
    "#import decisiontreeclassifier\n",
    "from sklearn import tree\n",
    "from sklearn.tree import DecisionTreeClassifier\n",
    "#import logisticregression classifier\n",
    "from sklearn.linear_model import LogisticRegression\n",
    "import statsmodels.api as sm\n",
    "from scipy import stats\n",
    "\n",
    "#import knn classifier\n",
    "from sklearn.neighbors import KNeighborsClassifier\n",
    "\n",
    "from sklearn import svm\n",
    "from sklearn.neural_network import MLPClassifier\n",
    "\n",
    "\n",
    "#ensemble classifier\n",
    "from sklearn.ensemble import RandomForestClassifier\n",
    "from sklearn.ensemble import GradientBoostingClassifier  #GBM algorithm\n",
    "\n",
    "from sklearn.metrics import classification_report, f1_score, accuracy_score, confusion_matrix\n",
    "from sklearn.model_selection import StratifiedKFold, cross_val_score, train_test_split, GridSearchCV, RandomizedSearchCV \n",
    "from sklearn import metrics\n",
    "from sklearn.metrics import roc_auc_score, auc\n",
    "\n",
    "# feature selection\n",
    "from sklearn.feature_selection import RFE\n",
    "from sklearn.ensemble import ExtraTreesClassifier\n",
    "from sklearn.feature_selection import SelectKBest\n",
    "from sklearn.feature_selection import chi2\n",
    "\n",
    "from sklearn.feature_selection import f_regression\n",
    "from sklearn.feature_selection import SelectKBest\n",
    "\n",
    "# recursive feature selection (feature selection)\n",
    "from sklearn.feature_selection import RFE\n",
    "\n",
    "\n",
    "import sklearn.linear_model as lm\n",
    "from sklearn.metrics import mean_squared_error\n",
    "from sklearn.metrics import explained_variance_score\n",
    "import statsmodels.formula.api as sm\n",
    "\n",
    "#lasso regression\n",
    "from sklearn import linear_model"
   ]
  },
  {
   "cell_type": "code",
   "execution_count": 2,
   "metadata": {},
   "outputs": [
    {
     "data": {
      "text/html": [
       "<div>\n",
       "<style>\n",
       "    .dataframe thead tr:only-child th {\n",
       "        text-align: right;\n",
       "    }\n",
       "\n",
       "    .dataframe thead th {\n",
       "        text-align: left;\n",
       "    }\n",
       "\n",
       "    .dataframe tbody tr th {\n",
       "        vertical-align: top;\n",
       "    }\n",
       "</style>\n",
       "<table border=\"1\" class=\"dataframe\">\n",
       "  <thead>\n",
       "    <tr style=\"text-align: right;\">\n",
       "      <th></th>\n",
       "      <th>FAKEID</th>\n",
       "      <th>Y2defect</th>\n",
       "      <th>Y1G5</th>\n",
       "      <th>Y1G4</th>\n",
       "      <th>Y1G3</th>\n",
       "      <th>Y1G2</th>\n",
       "      <th>Y1G1</th>\n",
       "      <th>Y1price</th>\n",
       "      <th>YEARS</th>\n",
       "      <th>BACKER</th>\n",
       "      <th>AGE</th>\n",
       "      <th>INCOME</th>\n",
       "      <th>CHILD</th>\n",
       "      <th>GNDR</th>\n",
       "      <th>OWNHOME</th>\n",
       "      <th>SPORT</th>\n",
       "      <th>COMP</th>\n",
       "      <th>PCTMARR</th>\n",
       "      <th>HOMEVAL</th>\n",
       "    </tr>\n",
       "  </thead>\n",
       "  <tbody>\n",
       "    <tr>\n",
       "      <th>0</th>\n",
       "      <td>580V74KT</td>\n",
       "      <td>0</td>\n",
       "      <td>0</td>\n",
       "      <td>0</td>\n",
       "      <td>1</td>\n",
       "      <td>1</td>\n",
       "      <td>1</td>\n",
       "      <td>15</td>\n",
       "      <td>8</td>\n",
       "      <td>1</td>\n",
       "      <td>94</td>\n",
       "      <td>4</td>\n",
       "      <td>NaN</td>\n",
       "      <td>0</td>\n",
       "      <td>1</td>\n",
       "      <td>NaN</td>\n",
       "      <td></td>\n",
       "      <td>77</td>\n",
       "      <td>203</td>\n",
       "    </tr>\n",
       "    <tr>\n",
       "      <th>1</th>\n",
       "      <td>298S54OK</td>\n",
       "      <td>1</td>\n",
       "      <td>0</td>\n",
       "      <td>0</td>\n",
       "      <td>1</td>\n",
       "      <td>0</td>\n",
       "      <td>1</td>\n",
       "      <td>15</td>\n",
       "      <td>3</td>\n",
       "      <td>1</td>\n",
       "      <td></td>\n",
       "      <td></td>\n",
       "      <td>NaN</td>\n",
       "      <td>0</td>\n",
       "      <td>0</td>\n",
       "      <td>NaN</td>\n",
       "      <td>1</td>\n",
       "      <td>53</td>\n",
       "      <td>68</td>\n",
       "    </tr>\n",
       "    <tr>\n",
       "      <th>2</th>\n",
       "      <td>268D25AO</td>\n",
       "      <td>1</td>\n",
       "      <td>1</td>\n",
       "      <td>0</td>\n",
       "      <td>0</td>\n",
       "      <td>0</td>\n",
       "      <td>1</td>\n",
       "      <td>15</td>\n",
       "      <td>11</td>\n",
       "      <td>1</td>\n",
       "      <td>67</td>\n",
       "      <td>2</td>\n",
       "      <td>NaN</td>\n",
       "      <td>0</td>\n",
       "      <td>1</td>\n",
       "      <td>0.0</td>\n",
       "      <td></td>\n",
       "      <td>50</td>\n",
       "      <td>38</td>\n",
       "    </tr>\n",
       "    <tr>\n",
       "      <th>3</th>\n",
       "      <td>312Q12WV</td>\n",
       "      <td>1</td>\n",
       "      <td>1</td>\n",
       "      <td>0</td>\n",
       "      <td>1</td>\n",
       "      <td>0</td>\n",
       "      <td>1</td>\n",
       "      <td>15</td>\n",
       "      <td>4</td>\n",
       "      <td>0</td>\n",
       "      <td>62</td>\n",
       "      <td>4</td>\n",
       "      <td></td>\n",
       "      <td>1</td>\n",
       "      <td>1</td>\n",
       "      <td>0.0</td>\n",
       "      <td>1</td>\n",
       "      <td>60</td>\n",
       "      <td>68</td>\n",
       "    </tr>\n",
       "    <tr>\n",
       "      <th>4</th>\n",
       "      <td>420R23VB</td>\n",
       "      <td>0</td>\n",
       "      <td>0</td>\n",
       "      <td>0</td>\n",
       "      <td>1</td>\n",
       "      <td>0</td>\n",
       "      <td>0</td>\n",
       "      <td>15</td>\n",
       "      <td>5</td>\n",
       "      <td>0</td>\n",
       "      <td>89</td>\n",
       "      <td>4</td>\n",
       "      <td></td>\n",
       "      <td>1</td>\n",
       "      <td>1</td>\n",
       "      <td>0.0</td>\n",
       "      <td></td>\n",
       "      <td>65</td>\n",
       "      <td>194</td>\n",
       "    </tr>\n",
       "  </tbody>\n",
       "</table>\n",
       "</div>"
      ],
      "text/plain": [
       "     FAKEID  Y2defect  Y1G5  Y1G4  Y1G3  Y1G2  Y1G1  Y1price  YEARS  BACKER  \\\n",
       "0  580V74KT         0     0     0     1     1     1       15      8       1   \n",
       "1  298S54OK         1     0     0     1     0     1       15      3       1   \n",
       "2  268D25AO         1     1     0     0     0     1       15     11       1   \n",
       "3  312Q12WV         1     1     0     1     0     1       15      4       0   \n",
       "4  420R23VB         0     0     0     1     0     0       15      5       0   \n",
       "\n",
       "  AGE INCOME CHILD GNDR OWNHOME  SPORT COMP  PCTMARR  HOMEVAL  \n",
       "0  94      4   NaN    0       1    NaN            77      203  \n",
       "1              NaN    0       0    NaN    1       53       68  \n",
       "2  67      2   NaN    0       1    0.0            50       38  \n",
       "3  62      4          1       1    0.0    1       60       68  \n",
       "4  89      4          1       1    0.0            65      194  "
      ]
     },
     "execution_count": 2,
     "metadata": {},
     "output_type": "execute_result"
    }
   ],
   "source": [
    "#to read excel file\n",
    "df=pd.read_excel(\"data/train_test_dataset.xlsx\")\n",
    "df.head()"
   ]
  },
  {
   "cell_type": "markdown",
   "metadata": {},
   "source": [
    "## Data Processing (ETL)"
   ]
  },
  {
   "cell_type": "code",
   "execution_count": 3,
   "metadata": {},
   "outputs": [
    {
     "data": {
      "text/html": [
       "<div>\n",
       "<style>\n",
       "    .dataframe thead tr:only-child th {\n",
       "        text-align: right;\n",
       "    }\n",
       "\n",
       "    .dataframe thead th {\n",
       "        text-align: left;\n",
       "    }\n",
       "\n",
       "    .dataframe tbody tr th {\n",
       "        vertical-align: top;\n",
       "    }\n",
       "</style>\n",
       "<table border=\"1\" class=\"dataframe\">\n",
       "  <thead>\n",
       "    <tr style=\"text-align: right;\">\n",
       "      <th></th>\n",
       "      <th>Y2defect</th>\n",
       "      <th>Y1G5</th>\n",
       "      <th>Y1G4</th>\n",
       "      <th>Y1G3</th>\n",
       "      <th>Y1G2</th>\n",
       "      <th>Y1G1</th>\n",
       "      <th>Y1price</th>\n",
       "      <th>YEARS</th>\n",
       "      <th>BACKER</th>\n",
       "      <th>SPORT</th>\n",
       "      <th>PCTMARR</th>\n",
       "      <th>HOMEVAL</th>\n",
       "    </tr>\n",
       "  </thead>\n",
       "  <tbody>\n",
       "    <tr>\n",
       "      <th>count</th>\n",
       "      <td>9216.000000</td>\n",
       "      <td>9216.000000</td>\n",
       "      <td>9216.000000</td>\n",
       "      <td>9216.000000</td>\n",
       "      <td>9216.000000</td>\n",
       "      <td>9216.000000</td>\n",
       "      <td>9216.000000</td>\n",
       "      <td>9216.000000</td>\n",
       "      <td>9216.000000</td>\n",
       "      <td>4273.000000</td>\n",
       "      <td>9216.000000</td>\n",
       "      <td>9216.000000</td>\n",
       "    </tr>\n",
       "    <tr>\n",
       "      <th>mean</th>\n",
       "      <td>0.500000</td>\n",
       "      <td>0.337023</td>\n",
       "      <td>0.510525</td>\n",
       "      <td>0.636719</td>\n",
       "      <td>0.291124</td>\n",
       "      <td>0.480252</td>\n",
       "      <td>19.963108</td>\n",
       "      <td>6.378038</td>\n",
       "      <td>0.489475</td>\n",
       "      <td>0.056869</td>\n",
       "      <td>58.228516</td>\n",
       "      <td>112.111220</td>\n",
       "    </tr>\n",
       "    <tr>\n",
       "      <th>std</th>\n",
       "      <td>0.500027</td>\n",
       "      <td>0.472718</td>\n",
       "      <td>0.499916</td>\n",
       "      <td>0.480971</td>\n",
       "      <td>0.454305</td>\n",
       "      <td>0.499637</td>\n",
       "      <td>8.820188</td>\n",
       "      <td>2.873927</td>\n",
       "      <td>0.499916</td>\n",
       "      <td>0.250085</td>\n",
       "      <td>12.902173</td>\n",
       "      <td>92.292223</td>\n",
       "    </tr>\n",
       "    <tr>\n",
       "      <th>min</th>\n",
       "      <td>0.000000</td>\n",
       "      <td>0.000000</td>\n",
       "      <td>0.000000</td>\n",
       "      <td>0.000000</td>\n",
       "      <td>0.000000</td>\n",
       "      <td>0.000000</td>\n",
       "      <td>15.000000</td>\n",
       "      <td>2.000000</td>\n",
       "      <td>0.000000</td>\n",
       "      <td>0.000000</td>\n",
       "      <td>0.000000</td>\n",
       "      <td>0.000000</td>\n",
       "    </tr>\n",
       "    <tr>\n",
       "      <th>25%</th>\n",
       "      <td>0.000000</td>\n",
       "      <td>0.000000</td>\n",
       "      <td>0.000000</td>\n",
       "      <td>0.000000</td>\n",
       "      <td>0.000000</td>\n",
       "      <td>0.000000</td>\n",
       "      <td>15.000000</td>\n",
       "      <td>4.000000</td>\n",
       "      <td>0.000000</td>\n",
       "      <td>0.000000</td>\n",
       "      <td>52.000000</td>\n",
       "      <td>56.000000</td>\n",
       "    </tr>\n",
       "    <tr>\n",
       "      <th>50%</th>\n",
       "      <td>0.500000</td>\n",
       "      <td>0.000000</td>\n",
       "      <td>1.000000</td>\n",
       "      <td>1.000000</td>\n",
       "      <td>0.000000</td>\n",
       "      <td>0.000000</td>\n",
       "      <td>15.000000</td>\n",
       "      <td>6.000000</td>\n",
       "      <td>0.000000</td>\n",
       "      <td>0.000000</td>\n",
       "      <td>61.000000</td>\n",
       "      <td>81.000000</td>\n",
       "    </tr>\n",
       "    <tr>\n",
       "      <th>75%</th>\n",
       "      <td>1.000000</td>\n",
       "      <td>1.000000</td>\n",
       "      <td>1.000000</td>\n",
       "      <td>1.000000</td>\n",
       "      <td>1.000000</td>\n",
       "      <td>1.000000</td>\n",
       "      <td>25.000000</td>\n",
       "      <td>9.000000</td>\n",
       "      <td>1.000000</td>\n",
       "      <td>0.000000</td>\n",
       "      <td>67.000000</td>\n",
       "      <td>132.000000</td>\n",
       "    </tr>\n",
       "    <tr>\n",
       "      <th>max</th>\n",
       "      <td>1.000000</td>\n",
       "      <td>1.000000</td>\n",
       "      <td>1.000000</td>\n",
       "      <td>1.000000</td>\n",
       "      <td>1.000000</td>\n",
       "      <td>1.000000</td>\n",
       "      <td>50.000000</td>\n",
       "      <td>24.000000</td>\n",
       "      <td>1.000000</td>\n",
       "      <td>3.000000</td>\n",
       "      <td>99.000000</td>\n",
       "      <td>600.000000</td>\n",
       "    </tr>\n",
       "  </tbody>\n",
       "</table>\n",
       "</div>"
      ],
      "text/plain": [
       "          Y2defect         Y1G5         Y1G4         Y1G3         Y1G2  \\\n",
       "count  9216.000000  9216.000000  9216.000000  9216.000000  9216.000000   \n",
       "mean      0.500000     0.337023     0.510525     0.636719     0.291124   \n",
       "std       0.500027     0.472718     0.499916     0.480971     0.454305   \n",
       "min       0.000000     0.000000     0.000000     0.000000     0.000000   \n",
       "25%       0.000000     0.000000     0.000000     0.000000     0.000000   \n",
       "50%       0.500000     0.000000     1.000000     1.000000     0.000000   \n",
       "75%       1.000000     1.000000     1.000000     1.000000     1.000000   \n",
       "max       1.000000     1.000000     1.000000     1.000000     1.000000   \n",
       "\n",
       "              Y1G1      Y1price        YEARS       BACKER        SPORT  \\\n",
       "count  9216.000000  9216.000000  9216.000000  9216.000000  4273.000000   \n",
       "mean      0.480252    19.963108     6.378038     0.489475     0.056869   \n",
       "std       0.499637     8.820188     2.873927     0.499916     0.250085   \n",
       "min       0.000000    15.000000     2.000000     0.000000     0.000000   \n",
       "25%       0.000000    15.000000     4.000000     0.000000     0.000000   \n",
       "50%       0.000000    15.000000     6.000000     0.000000     0.000000   \n",
       "75%       1.000000    25.000000     9.000000     1.000000     0.000000   \n",
       "max       1.000000    50.000000    24.000000     1.000000     3.000000   \n",
       "\n",
       "           PCTMARR      HOMEVAL  \n",
       "count  9216.000000  9216.000000  \n",
       "mean     58.228516   112.111220  \n",
       "std      12.902173    92.292223  \n",
       "min       0.000000     0.000000  \n",
       "25%      52.000000    56.000000  \n",
       "50%      61.000000    81.000000  \n",
       "75%      67.000000   132.000000  \n",
       "max      99.000000   600.000000  "
      ]
     },
     "execution_count": 3,
     "metadata": {},
     "output_type": "execute_result"
    }
   ],
   "source": [
    "# find out some statistics about the dataset\n",
    "df.describe()"
   ]
  },
  {
   "cell_type": "code",
   "execution_count": 4,
   "metadata": {},
   "outputs": [
    {
     "name": "stdout",
     "output_type": "stream",
     "text": [
      "<class 'pandas.core.frame.DataFrame'>\n",
      "RangeIndex: 9216 entries, 0 to 9215\n",
      "Data columns (total 19 columns):\n",
      "FAKEID      9216 non-null object\n",
      "Y2defect    9216 non-null int64\n",
      "Y1G5        9216 non-null int64\n",
      "Y1G4        9216 non-null int64\n",
      "Y1G3        9216 non-null int64\n",
      "Y1G2        9216 non-null int64\n",
      "Y1G1        9216 non-null int64\n",
      "Y1price     9216 non-null int64\n",
      "YEARS       9216 non-null int64\n",
      "BACKER      9216 non-null int64\n",
      "AGE         9216 non-null object\n",
      "INCOME      9216 non-null object\n",
      "CHILD       4549 non-null object\n",
      "GNDR        9216 non-null object\n",
      "OWNHOME     9216 non-null object\n",
      "SPORT       4273 non-null float64\n",
      "COMP        9216 non-null object\n",
      "PCTMARR     9216 non-null int64\n",
      "HOMEVAL     9216 non-null int64\n",
      "dtypes: float64(1), int64(11), object(7)\n",
      "memory usage: 1.3+ MB\n"
     ]
    }
   ],
   "source": [
    "#find out the dataset\n",
    "df.info()"
   ]
  },
  {
   "cell_type": "markdown",
   "metadata": {},
   "source": [
    "There are a number of **data quality issues**.\n",
    "- There are two columns that have missing values\n",
    "- There are some missing values and empty cells in the dataset\n",
    "\n",
    "**Numerical Columns**: Y2defect, Y1G5, Y1G4, Y1G3, Y1G2, Y1G1, Y1price, Years, Backer, Sport, Pctmarr, and Homeval\n",
    "\n",
    "**Categorical Columns**: Fakeid, Age, Income, Child, Gndr, Ownhome, and Comp"
   ]
  },
  {
   "cell_type": "code",
   "execution_count": 5,
   "metadata": {
    "scrolled": false
   },
   "outputs": [
    {
     "data": {
      "text/plain": [
       "FAKEID         0\n",
       "Y2defect       0\n",
       "Y1G5           0\n",
       "Y1G4           0\n",
       "Y1G3           0\n",
       "Y1G2           0\n",
       "Y1G1           0\n",
       "Y1price        0\n",
       "YEARS          0\n",
       "BACKER         0\n",
       "AGE            0\n",
       "INCOME         0\n",
       "CHILD       4667\n",
       "GNDR           0\n",
       "OWNHOME        0\n",
       "SPORT       4943\n",
       "COMP           0\n",
       "PCTMARR        0\n",
       "HOMEVAL        0\n",
       "dtype: int64"
      ]
     },
     "execution_count": 5,
     "metadata": {},
     "output_type": "execute_result"
    }
   ],
   "source": [
    "# find out how many missing values in each column or variable\n",
    "df.isnull().sum()"
   ]
  },
  {
   "cell_type": "markdown",
   "metadata": {},
   "source": [
    "The columns \"Child\" and \"Sport\" have missing values."
   ]
  },
  {
   "cell_type": "code",
   "execution_count": 6,
   "metadata": {},
   "outputs": [
    {
     "data": {
      "text/html": [
       "<div>\n",
       "<style>\n",
       "    .dataframe thead tr:only-child th {\n",
       "        text-align: right;\n",
       "    }\n",
       "\n",
       "    .dataframe thead th {\n",
       "        text-align: left;\n",
       "    }\n",
       "\n",
       "    .dataframe tbody tr th {\n",
       "        vertical-align: top;\n",
       "    }\n",
       "</style>\n",
       "<table border=\"1\" class=\"dataframe\">\n",
       "  <thead>\n",
       "    <tr style=\"text-align: right;\">\n",
       "      <th></th>\n",
       "      <th>FAKEID</th>\n",
       "      <th>Y2defect</th>\n",
       "      <th>Y1G5</th>\n",
       "      <th>Y1G4</th>\n",
       "      <th>Y1G3</th>\n",
       "      <th>Y1G2</th>\n",
       "      <th>Y1G1</th>\n",
       "      <th>Y1price</th>\n",
       "      <th>YEARS</th>\n",
       "      <th>BACKER</th>\n",
       "      <th>AGE</th>\n",
       "      <th>INCOME</th>\n",
       "      <th>CHILD</th>\n",
       "      <th>GNDR</th>\n",
       "      <th>OWNHOME</th>\n",
       "      <th>SPORT</th>\n",
       "      <th>COMP</th>\n",
       "      <th>PCTMARR</th>\n",
       "      <th>HOMEVAL</th>\n",
       "    </tr>\n",
       "  </thead>\n",
       "  <tbody>\n",
       "    <tr>\n",
       "      <th>0</th>\n",
       "      <td>580V74KT</td>\n",
       "      <td>0</td>\n",
       "      <td>0</td>\n",
       "      <td>0</td>\n",
       "      <td>1</td>\n",
       "      <td>1</td>\n",
       "      <td>1</td>\n",
       "      <td>15</td>\n",
       "      <td>8</td>\n",
       "      <td>1</td>\n",
       "      <td>94.0</td>\n",
       "      <td>4.0</td>\n",
       "      <td>NaN</td>\n",
       "      <td>0.0</td>\n",
       "      <td>1.0</td>\n",
       "      <td>NaN</td>\n",
       "      <td>NaN</td>\n",
       "      <td>77</td>\n",
       "      <td>203</td>\n",
       "    </tr>\n",
       "    <tr>\n",
       "      <th>1</th>\n",
       "      <td>298S54OK</td>\n",
       "      <td>1</td>\n",
       "      <td>0</td>\n",
       "      <td>0</td>\n",
       "      <td>1</td>\n",
       "      <td>0</td>\n",
       "      <td>1</td>\n",
       "      <td>15</td>\n",
       "      <td>3</td>\n",
       "      <td>1</td>\n",
       "      <td>NaN</td>\n",
       "      <td>NaN</td>\n",
       "      <td>NaN</td>\n",
       "      <td>0.0</td>\n",
       "      <td>0.0</td>\n",
       "      <td>NaN</td>\n",
       "      <td>1.0</td>\n",
       "      <td>53</td>\n",
       "      <td>68</td>\n",
       "    </tr>\n",
       "    <tr>\n",
       "      <th>2</th>\n",
       "      <td>268D25AO</td>\n",
       "      <td>1</td>\n",
       "      <td>1</td>\n",
       "      <td>0</td>\n",
       "      <td>0</td>\n",
       "      <td>0</td>\n",
       "      <td>1</td>\n",
       "      <td>15</td>\n",
       "      <td>11</td>\n",
       "      <td>1</td>\n",
       "      <td>67.0</td>\n",
       "      <td>2.0</td>\n",
       "      <td>NaN</td>\n",
       "      <td>0.0</td>\n",
       "      <td>1.0</td>\n",
       "      <td>0.0</td>\n",
       "      <td>NaN</td>\n",
       "      <td>50</td>\n",
       "      <td>38</td>\n",
       "    </tr>\n",
       "    <tr>\n",
       "      <th>3</th>\n",
       "      <td>312Q12WV</td>\n",
       "      <td>1</td>\n",
       "      <td>1</td>\n",
       "      <td>0</td>\n",
       "      <td>1</td>\n",
       "      <td>0</td>\n",
       "      <td>1</td>\n",
       "      <td>15</td>\n",
       "      <td>4</td>\n",
       "      <td>0</td>\n",
       "      <td>62.0</td>\n",
       "      <td>4.0</td>\n",
       "      <td>NaN</td>\n",
       "      <td>1.0</td>\n",
       "      <td>1.0</td>\n",
       "      <td>0.0</td>\n",
       "      <td>1.0</td>\n",
       "      <td>60</td>\n",
       "      <td>68</td>\n",
       "    </tr>\n",
       "    <tr>\n",
       "      <th>4</th>\n",
       "      <td>420R23VB</td>\n",
       "      <td>0</td>\n",
       "      <td>0</td>\n",
       "      <td>0</td>\n",
       "      <td>1</td>\n",
       "      <td>0</td>\n",
       "      <td>0</td>\n",
       "      <td>15</td>\n",
       "      <td>5</td>\n",
       "      <td>0</td>\n",
       "      <td>89.0</td>\n",
       "      <td>4.0</td>\n",
       "      <td>NaN</td>\n",
       "      <td>1.0</td>\n",
       "      <td>1.0</td>\n",
       "      <td>0.0</td>\n",
       "      <td>NaN</td>\n",
       "      <td>65</td>\n",
       "      <td>194</td>\n",
       "    </tr>\n",
       "    <tr>\n",
       "      <th>5</th>\n",
       "      <td>611B52LL</td>\n",
       "      <td>1</td>\n",
       "      <td>0</td>\n",
       "      <td>0</td>\n",
       "      <td>1</td>\n",
       "      <td>0</td>\n",
       "      <td>0</td>\n",
       "      <td>15</td>\n",
       "      <td>2</td>\n",
       "      <td>0</td>\n",
       "      <td>77.0</td>\n",
       "      <td>0.0</td>\n",
       "      <td>NaN</td>\n",
       "      <td>0.0</td>\n",
       "      <td>NaN</td>\n",
       "      <td>0.0</td>\n",
       "      <td>NaN</td>\n",
       "      <td>54</td>\n",
       "      <td>92</td>\n",
       "    </tr>\n",
       "    <tr>\n",
       "      <th>6</th>\n",
       "      <td>612W26VA</td>\n",
       "      <td>1</td>\n",
       "      <td>0</td>\n",
       "      <td>1</td>\n",
       "      <td>0</td>\n",
       "      <td>0</td>\n",
       "      <td>0</td>\n",
       "      <td>15</td>\n",
       "      <td>4</td>\n",
       "      <td>0</td>\n",
       "      <td>67.0</td>\n",
       "      <td>1.0</td>\n",
       "      <td>1.0</td>\n",
       "      <td>1.0</td>\n",
       "      <td>NaN</td>\n",
       "      <td>NaN</td>\n",
       "      <td>NaN</td>\n",
       "      <td>63</td>\n",
       "      <td>129</td>\n",
       "    </tr>\n",
       "    <tr>\n",
       "      <th>7</th>\n",
       "      <td>594Y59EZ</td>\n",
       "      <td>0</td>\n",
       "      <td>1</td>\n",
       "      <td>1</td>\n",
       "      <td>0</td>\n",
       "      <td>0</td>\n",
       "      <td>1</td>\n",
       "      <td>15</td>\n",
       "      <td>6</td>\n",
       "      <td>1</td>\n",
       "      <td>76.0</td>\n",
       "      <td>5.0</td>\n",
       "      <td>NaN</td>\n",
       "      <td>1.0</td>\n",
       "      <td>1.0</td>\n",
       "      <td>0.0</td>\n",
       "      <td>NaN</td>\n",
       "      <td>50</td>\n",
       "      <td>483</td>\n",
       "    </tr>\n",
       "    <tr>\n",
       "      <th>8</th>\n",
       "      <td>610K33YD</td>\n",
       "      <td>1</td>\n",
       "      <td>1</td>\n",
       "      <td>0</td>\n",
       "      <td>0</td>\n",
       "      <td>0</td>\n",
       "      <td>1</td>\n",
       "      <td>25</td>\n",
       "      <td>4</td>\n",
       "      <td>1</td>\n",
       "      <td>NaN</td>\n",
       "      <td>NaN</td>\n",
       "      <td>NaN</td>\n",
       "      <td>NaN</td>\n",
       "      <td>0.0</td>\n",
       "      <td>NaN</td>\n",
       "      <td>NaN</td>\n",
       "      <td>51</td>\n",
       "      <td>168</td>\n",
       "    </tr>\n",
       "    <tr>\n",
       "      <th>9</th>\n",
       "      <td>716W84WL</td>\n",
       "      <td>1</td>\n",
       "      <td>0</td>\n",
       "      <td>1</td>\n",
       "      <td>1</td>\n",
       "      <td>0</td>\n",
       "      <td>0</td>\n",
       "      <td>15</td>\n",
       "      <td>3</td>\n",
       "      <td>1</td>\n",
       "      <td>54.0</td>\n",
       "      <td>3.0</td>\n",
       "      <td>NaN</td>\n",
       "      <td>0.0</td>\n",
       "      <td>NaN</td>\n",
       "      <td>NaN</td>\n",
       "      <td>NaN</td>\n",
       "      <td>51</td>\n",
       "      <td>90</td>\n",
       "    </tr>\n",
       "  </tbody>\n",
       "</table>\n",
       "</div>"
      ],
      "text/plain": [
       "     FAKEID  Y2defect  Y1G5  Y1G4  Y1G3  Y1G2  Y1G1  Y1price  YEARS  BACKER  \\\n",
       "0  580V74KT         0     0     0     1     1     1       15      8       1   \n",
       "1  298S54OK         1     0     0     1     0     1       15      3       1   \n",
       "2  268D25AO         1     1     0     0     0     1       15     11       1   \n",
       "3  312Q12WV         1     1     0     1     0     1       15      4       0   \n",
       "4  420R23VB         0     0     0     1     0     0       15      5       0   \n",
       "5  611B52LL         1     0     0     1     0     0       15      2       0   \n",
       "6  612W26VA         1     0     1     0     0     0       15      4       0   \n",
       "7  594Y59EZ         0     1     1     0     0     1       15      6       1   \n",
       "8  610K33YD         1     1     0     0     0     1       25      4       1   \n",
       "9  716W84WL         1     0     1     1     0     0       15      3       1   \n",
       "\n",
       "    AGE  INCOME  CHILD  GNDR  OWNHOME  SPORT  COMP  PCTMARR  HOMEVAL  \n",
       "0  94.0     4.0    NaN   0.0      1.0    NaN   NaN       77      203  \n",
       "1   NaN     NaN    NaN   0.0      0.0    NaN   1.0       53       68  \n",
       "2  67.0     2.0    NaN   0.0      1.0    0.0   NaN       50       38  \n",
       "3  62.0     4.0    NaN   1.0      1.0    0.0   1.0       60       68  \n",
       "4  89.0     4.0    NaN   1.0      1.0    0.0   NaN       65      194  \n",
       "5  77.0     0.0    NaN   0.0      NaN    0.0   NaN       54       92  \n",
       "6  67.0     1.0    1.0   1.0      NaN    NaN   NaN       63      129  \n",
       "7  76.0     5.0    NaN   1.0      1.0    0.0   NaN       50      483  \n",
       "8   NaN     NaN    NaN   NaN      0.0    NaN   NaN       51      168  \n",
       "9  54.0     3.0    NaN   0.0      NaN    NaN   NaN       51       90  "
      ]
     },
     "execution_count": 6,
     "metadata": {},
     "output_type": "execute_result"
    }
   ],
   "source": [
    "#to replace empty values with null value\n",
    "df = df.replace(r'\\s+', np.nan, regex=True)\n",
    "df.head(10)"
   ]
  },
  {
   "cell_type": "code",
   "execution_count": 7,
   "metadata": {},
   "outputs": [
    {
     "data": {
      "text/plain": [
       "FAKEID         0\n",
       "Y2defect       0\n",
       "Y1G5           0\n",
       "Y1G4           0\n",
       "Y1G3           0\n",
       "Y1G2           0\n",
       "Y1G1           0\n",
       "Y1price        0\n",
       "YEARS          0\n",
       "BACKER         0\n",
       "AGE         1993\n",
       "INCOME      1944\n",
       "CHILD       8634\n",
       "GNDR         498\n",
       "OWNHOME     1999\n",
       "SPORT       4943\n",
       "COMP        8207\n",
       "PCTMARR        0\n",
       "HOMEVAL        0\n",
       "dtype: int64"
      ]
     },
     "execution_count": 7,
     "metadata": {},
     "output_type": "execute_result"
    }
   ],
   "source": [
    "df.isnull().sum()"
   ]
  },
  {
   "cell_type": "markdown",
   "metadata": {},
   "source": [
    "Now, Child and Sport are not the only columns with missing values.\n",
    "\n",
    "Comp and Child have over 8,000 missing values. Should we drop all the missing values or replace them with another value? Are there columns that are not relevant for finding the defects? "
   ]
  },
  {
   "cell_type": "code",
   "execution_count": 8,
   "metadata": {},
   "outputs": [
    {
     "data": {
      "text/html": [
       "<div>\n",
       "<style>\n",
       "    .dataframe thead tr:only-child th {\n",
       "        text-align: right;\n",
       "    }\n",
       "\n",
       "    .dataframe thead th {\n",
       "        text-align: left;\n",
       "    }\n",
       "\n",
       "    .dataframe tbody tr th {\n",
       "        vertical-align: top;\n",
       "    }\n",
       "</style>\n",
       "<table border=\"1\" class=\"dataframe\">\n",
       "  <thead>\n",
       "    <tr style=\"text-align: right;\">\n",
       "      <th></th>\n",
       "      <th>FAKEID</th>\n",
       "      <th>Y2defect</th>\n",
       "      <th>Y1G5</th>\n",
       "      <th>Y1G4</th>\n",
       "      <th>Y1G3</th>\n",
       "      <th>Y1G2</th>\n",
       "      <th>Y1G1</th>\n",
       "      <th>Y1price</th>\n",
       "      <th>YEARS</th>\n",
       "      <th>BACKER</th>\n",
       "      <th>AGE</th>\n",
       "      <th>INCOME</th>\n",
       "      <th>GNDR</th>\n",
       "      <th>OWNHOME</th>\n",
       "      <th>HOMEVAL</th>\n",
       "    </tr>\n",
       "  </thead>\n",
       "  <tbody>\n",
       "    <tr>\n",
       "      <th>0</th>\n",
       "      <td>580V74KT</td>\n",
       "      <td>0</td>\n",
       "      <td>0</td>\n",
       "      <td>0</td>\n",
       "      <td>1</td>\n",
       "      <td>1</td>\n",
       "      <td>1</td>\n",
       "      <td>15</td>\n",
       "      <td>8</td>\n",
       "      <td>1</td>\n",
       "      <td>94.0</td>\n",
       "      <td>4.0</td>\n",
       "      <td>0.0</td>\n",
       "      <td>1.0</td>\n",
       "      <td>203</td>\n",
       "    </tr>\n",
       "    <tr>\n",
       "      <th>1</th>\n",
       "      <td>298S54OK</td>\n",
       "      <td>1</td>\n",
       "      <td>0</td>\n",
       "      <td>0</td>\n",
       "      <td>1</td>\n",
       "      <td>0</td>\n",
       "      <td>1</td>\n",
       "      <td>15</td>\n",
       "      <td>3</td>\n",
       "      <td>1</td>\n",
       "      <td>NaN</td>\n",
       "      <td>NaN</td>\n",
       "      <td>0.0</td>\n",
       "      <td>0.0</td>\n",
       "      <td>68</td>\n",
       "    </tr>\n",
       "    <tr>\n",
       "      <th>2</th>\n",
       "      <td>268D25AO</td>\n",
       "      <td>1</td>\n",
       "      <td>1</td>\n",
       "      <td>0</td>\n",
       "      <td>0</td>\n",
       "      <td>0</td>\n",
       "      <td>1</td>\n",
       "      <td>15</td>\n",
       "      <td>11</td>\n",
       "      <td>1</td>\n",
       "      <td>67.0</td>\n",
       "      <td>2.0</td>\n",
       "      <td>0.0</td>\n",
       "      <td>1.0</td>\n",
       "      <td>38</td>\n",
       "    </tr>\n",
       "    <tr>\n",
       "      <th>3</th>\n",
       "      <td>312Q12WV</td>\n",
       "      <td>1</td>\n",
       "      <td>1</td>\n",
       "      <td>0</td>\n",
       "      <td>1</td>\n",
       "      <td>0</td>\n",
       "      <td>1</td>\n",
       "      <td>15</td>\n",
       "      <td>4</td>\n",
       "      <td>0</td>\n",
       "      <td>62.0</td>\n",
       "      <td>4.0</td>\n",
       "      <td>1.0</td>\n",
       "      <td>1.0</td>\n",
       "      <td>68</td>\n",
       "    </tr>\n",
       "    <tr>\n",
       "      <th>4</th>\n",
       "      <td>420R23VB</td>\n",
       "      <td>0</td>\n",
       "      <td>0</td>\n",
       "      <td>0</td>\n",
       "      <td>1</td>\n",
       "      <td>0</td>\n",
       "      <td>0</td>\n",
       "      <td>15</td>\n",
       "      <td>5</td>\n",
       "      <td>0</td>\n",
       "      <td>89.0</td>\n",
       "      <td>4.0</td>\n",
       "      <td>1.0</td>\n",
       "      <td>1.0</td>\n",
       "      <td>194</td>\n",
       "    </tr>\n",
       "  </tbody>\n",
       "</table>\n",
       "</div>"
      ],
      "text/plain": [
       "     FAKEID  Y2defect  Y1G5  Y1G4  Y1G3  Y1G2  Y1G1  Y1price  YEARS  BACKER  \\\n",
       "0  580V74KT         0     0     0     1     1     1       15      8       1   \n",
       "1  298S54OK         1     0     0     1     0     1       15      3       1   \n",
       "2  268D25AO         1     1     0     0     0     1       15     11       1   \n",
       "3  312Q12WV         1     1     0     1     0     1       15      4       0   \n",
       "4  420R23VB         0     0     0     1     0     0       15      5       0   \n",
       "\n",
       "    AGE  INCOME  GNDR  OWNHOME  HOMEVAL  \n",
       "0  94.0     4.0   0.0      1.0      203  \n",
       "1   NaN     NaN   0.0      0.0       68  \n",
       "2  67.0     2.0   0.0      1.0       38  \n",
       "3  62.0     4.0   1.0      1.0       68  \n",
       "4  89.0     4.0   1.0      1.0      194  "
      ]
     },
     "execution_count": 8,
     "metadata": {},
     "output_type": "execute_result"
    }
   ],
   "source": [
    "#To drop unwanted columns\n",
    "df = df.drop(['COMP','CHILD','SPORT', 'PCTMARR'], axis=1)\n",
    "df.head()"
   ]
  },
  {
   "cell_type": "code",
   "execution_count": 9,
   "metadata": {},
   "outputs": [
    {
     "data": {
      "text/plain": [
       "FAKEID         0\n",
       "Y2defect       0\n",
       "Y1G5           0\n",
       "Y1G4           0\n",
       "Y1G3           0\n",
       "Y1G2           0\n",
       "Y1G1           0\n",
       "Y1price        0\n",
       "YEARS          0\n",
       "BACKER         0\n",
       "AGE         1993\n",
       "INCOME      1944\n",
       "GNDR         498\n",
       "OWNHOME     1999\n",
       "HOMEVAL        0\n",
       "dtype: int64"
      ]
     },
     "execution_count": 9,
     "metadata": {},
     "output_type": "execute_result"
    }
   ],
   "source": [
    "df.isnull().sum()"
   ]
  },
  {
   "cell_type": "code",
   "execution_count": 10,
   "metadata": {},
   "outputs": [
    {
     "data": {
      "text/plain": [
       "63.0"
      ]
     },
     "execution_count": 10,
     "metadata": {},
     "output_type": "execute_result"
    }
   ],
   "source": [
    "#To find the median value of a column\n",
    "df['AGE'].median()"
   ]
  },
  {
   "cell_type": "code",
   "execution_count": 11,
   "metadata": {},
   "outputs": [
    {
     "data": {
      "text/plain": [
       "3.0"
      ]
     },
     "execution_count": 11,
     "metadata": {},
     "output_type": "execute_result"
    }
   ],
   "source": [
    "df['INCOME'].median()"
   ]
  },
  {
   "cell_type": "code",
   "execution_count": 12,
   "metadata": {},
   "outputs": [
    {
     "data": {
      "text/plain": [
       "1.0"
      ]
     },
     "execution_count": 12,
     "metadata": {},
     "output_type": "execute_result"
    }
   ],
   "source": [
    "df['OWNHOME'].median()"
   ]
  },
  {
   "cell_type": "code",
   "execution_count": 13,
   "metadata": {},
   "outputs": [
    {
     "data": {
      "text/plain": [
       "FAKEID        0\n",
       "Y2defect      0\n",
       "Y1G5          0\n",
       "Y1G4          0\n",
       "Y1G3          0\n",
       "Y1G2          0\n",
       "Y1G1          0\n",
       "Y1price       0\n",
       "YEARS         0\n",
       "BACKER        0\n",
       "AGE           0\n",
       "INCOME        0\n",
       "GNDR        498\n",
       "OWNHOME       0\n",
       "HOMEVAL       0\n",
       "dtype: int64"
      ]
     },
     "execution_count": 13,
     "metadata": {},
     "output_type": "execute_result"
    }
   ],
   "source": [
    "#To replace the null values with the median value\n",
    "df = df.fillna({'AGE': 63.})\n",
    "df = df.fillna({'INCOME': 3})\n",
    "df = df.fillna({'OWNHOME': 1})\n",
    "df.isnull().sum()"
   ]
  },
  {
   "cell_type": "code",
   "execution_count": 14,
   "metadata": {},
   "outputs": [
    {
     "data": {
      "text/plain": [
       "FAKEID      0\n",
       "Y2defect    0\n",
       "Y1G5        0\n",
       "Y1G4        0\n",
       "Y1G3        0\n",
       "Y1G2        0\n",
       "Y1G1        0\n",
       "Y1price     0\n",
       "YEARS       0\n",
       "BACKER      0\n",
       "AGE         0\n",
       "INCOME      0\n",
       "GNDR        0\n",
       "OWNHOME     0\n",
       "HOMEVAL     0\n",
       "dtype: int64"
      ]
     },
     "execution_count": 14,
     "metadata": {},
     "output_type": "execute_result"
    }
   ],
   "source": [
    "df = df.dropna()\n",
    "df.isnull().sum()"
   ]
  },
  {
   "cell_type": "code",
   "execution_count": 15,
   "metadata": {},
   "outputs": [
    {
     "name": "stdout",
     "output_type": "stream",
     "text": [
      "<class 'pandas.core.frame.DataFrame'>\n",
      "Int64Index: 8718 entries, 0 to 9215\n",
      "Data columns (total 15 columns):\n",
      "FAKEID      8718 non-null object\n",
      "Y2defect    8718 non-null int64\n",
      "Y1G5        8718 non-null int64\n",
      "Y1G4        8718 non-null int64\n",
      "Y1G3        8718 non-null int64\n",
      "Y1G2        8718 non-null int64\n",
      "Y1G1        8718 non-null int64\n",
      "Y1price     8718 non-null int64\n",
      "YEARS       8718 non-null int64\n",
      "BACKER      8718 non-null int64\n",
      "AGE         8718 non-null int64\n",
      "INCOME      8718 non-null int64\n",
      "GNDR        8718 non-null int64\n",
      "OWNHOME     8718 non-null int64\n",
      "HOMEVAL     8718 non-null int64\n",
      "dtypes: int64(14), object(1)\n",
      "memory usage: 1.1+ MB\n"
     ]
    }
   ],
   "source": [
    "#to change categorical values into numerical columns\n",
    "df['AGE'] = df['AGE'].astype(int)\n",
    "df['INCOME'] = df['INCOME'].astype(int)\n",
    "df['GNDR'] = df['GNDR'].astype(int)\n",
    "df['OWNHOME'] = df['OWNHOME'].astype(int)\n",
    "df.info()"
   ]
  },
  {
   "cell_type": "code",
   "execution_count": 16,
   "metadata": {},
   "outputs": [
    {
     "data": {
      "text/html": [
       "<div>\n",
       "<style>\n",
       "    .dataframe thead tr:only-child th {\n",
       "        text-align: right;\n",
       "    }\n",
       "\n",
       "    .dataframe thead th {\n",
       "        text-align: left;\n",
       "    }\n",
       "\n",
       "    .dataframe tbody tr th {\n",
       "        vertical-align: top;\n",
       "    }\n",
       "</style>\n",
       "<table border=\"1\" class=\"dataframe\">\n",
       "  <thead>\n",
       "    <tr style=\"text-align: right;\">\n",
       "      <th></th>\n",
       "      <th>FAKEID</th>\n",
       "      <th>Y2defect</th>\n",
       "      <th>Y1G5</th>\n",
       "      <th>Y1G4</th>\n",
       "      <th>Y1G3</th>\n",
       "      <th>Y1G2</th>\n",
       "      <th>Y1G1</th>\n",
       "      <th>Y1price</th>\n",
       "      <th>YEARS</th>\n",
       "      <th>BACKER</th>\n",
       "      <th>AGE</th>\n",
       "      <th>INCOME</th>\n",
       "      <th>GNDR</th>\n",
       "      <th>OWNHOME</th>\n",
       "      <th>HOMEVAL</th>\n",
       "      <th>TICKUTIL</th>\n",
       "    </tr>\n",
       "  </thead>\n",
       "  <tbody>\n",
       "    <tr>\n",
       "      <th>0</th>\n",
       "      <td>580V74KT</td>\n",
       "      <td>0</td>\n",
       "      <td>0</td>\n",
       "      <td>0</td>\n",
       "      <td>1</td>\n",
       "      <td>1</td>\n",
       "      <td>1</td>\n",
       "      <td>15</td>\n",
       "      <td>8</td>\n",
       "      <td>1</td>\n",
       "      <td>94</td>\n",
       "      <td>4</td>\n",
       "      <td>0</td>\n",
       "      <td>1</td>\n",
       "      <td>203</td>\n",
       "      <td>3</td>\n",
       "    </tr>\n",
       "    <tr>\n",
       "      <th>1</th>\n",
       "      <td>298S54OK</td>\n",
       "      <td>1</td>\n",
       "      <td>0</td>\n",
       "      <td>0</td>\n",
       "      <td>1</td>\n",
       "      <td>0</td>\n",
       "      <td>1</td>\n",
       "      <td>15</td>\n",
       "      <td>3</td>\n",
       "      <td>1</td>\n",
       "      <td>63</td>\n",
       "      <td>3</td>\n",
       "      <td>0</td>\n",
       "      <td>0</td>\n",
       "      <td>68</td>\n",
       "      <td>2</td>\n",
       "    </tr>\n",
       "    <tr>\n",
       "      <th>2</th>\n",
       "      <td>268D25AO</td>\n",
       "      <td>1</td>\n",
       "      <td>1</td>\n",
       "      <td>0</td>\n",
       "      <td>0</td>\n",
       "      <td>0</td>\n",
       "      <td>1</td>\n",
       "      <td>15</td>\n",
       "      <td>11</td>\n",
       "      <td>1</td>\n",
       "      <td>67</td>\n",
       "      <td>2</td>\n",
       "      <td>0</td>\n",
       "      <td>1</td>\n",
       "      <td>38</td>\n",
       "      <td>2</td>\n",
       "    </tr>\n",
       "    <tr>\n",
       "      <th>3</th>\n",
       "      <td>312Q12WV</td>\n",
       "      <td>1</td>\n",
       "      <td>1</td>\n",
       "      <td>0</td>\n",
       "      <td>1</td>\n",
       "      <td>0</td>\n",
       "      <td>1</td>\n",
       "      <td>15</td>\n",
       "      <td>4</td>\n",
       "      <td>0</td>\n",
       "      <td>62</td>\n",
       "      <td>4</td>\n",
       "      <td>1</td>\n",
       "      <td>1</td>\n",
       "      <td>68</td>\n",
       "      <td>3</td>\n",
       "    </tr>\n",
       "    <tr>\n",
       "      <th>4</th>\n",
       "      <td>420R23VB</td>\n",
       "      <td>0</td>\n",
       "      <td>0</td>\n",
       "      <td>0</td>\n",
       "      <td>1</td>\n",
       "      <td>0</td>\n",
       "      <td>0</td>\n",
       "      <td>15</td>\n",
       "      <td>5</td>\n",
       "      <td>0</td>\n",
       "      <td>89</td>\n",
       "      <td>4</td>\n",
       "      <td>1</td>\n",
       "      <td>1</td>\n",
       "      <td>194</td>\n",
       "      <td>1</td>\n",
       "    </tr>\n",
       "    <tr>\n",
       "      <th>5</th>\n",
       "      <td>611B52LL</td>\n",
       "      <td>1</td>\n",
       "      <td>0</td>\n",
       "      <td>0</td>\n",
       "      <td>1</td>\n",
       "      <td>0</td>\n",
       "      <td>0</td>\n",
       "      <td>15</td>\n",
       "      <td>2</td>\n",
       "      <td>0</td>\n",
       "      <td>77</td>\n",
       "      <td>0</td>\n",
       "      <td>0</td>\n",
       "      <td>1</td>\n",
       "      <td>92</td>\n",
       "      <td>1</td>\n",
       "    </tr>\n",
       "    <tr>\n",
       "      <th>6</th>\n",
       "      <td>612W26VA</td>\n",
       "      <td>1</td>\n",
       "      <td>0</td>\n",
       "      <td>1</td>\n",
       "      <td>0</td>\n",
       "      <td>0</td>\n",
       "      <td>0</td>\n",
       "      <td>15</td>\n",
       "      <td>4</td>\n",
       "      <td>0</td>\n",
       "      <td>67</td>\n",
       "      <td>1</td>\n",
       "      <td>1</td>\n",
       "      <td>1</td>\n",
       "      <td>129</td>\n",
       "      <td>1</td>\n",
       "    </tr>\n",
       "    <tr>\n",
       "      <th>7</th>\n",
       "      <td>594Y59EZ</td>\n",
       "      <td>0</td>\n",
       "      <td>1</td>\n",
       "      <td>1</td>\n",
       "      <td>0</td>\n",
       "      <td>0</td>\n",
       "      <td>1</td>\n",
       "      <td>15</td>\n",
       "      <td>6</td>\n",
       "      <td>1</td>\n",
       "      <td>76</td>\n",
       "      <td>5</td>\n",
       "      <td>1</td>\n",
       "      <td>1</td>\n",
       "      <td>483</td>\n",
       "      <td>3</td>\n",
       "    </tr>\n",
       "    <tr>\n",
       "      <th>9</th>\n",
       "      <td>716W84WL</td>\n",
       "      <td>1</td>\n",
       "      <td>0</td>\n",
       "      <td>1</td>\n",
       "      <td>1</td>\n",
       "      <td>0</td>\n",
       "      <td>0</td>\n",
       "      <td>15</td>\n",
       "      <td>3</td>\n",
       "      <td>1</td>\n",
       "      <td>54</td>\n",
       "      <td>3</td>\n",
       "      <td>0</td>\n",
       "      <td>1</td>\n",
       "      <td>90</td>\n",
       "      <td>2</td>\n",
       "    </tr>\n",
       "    <tr>\n",
       "      <th>10</th>\n",
       "      <td>912U90JS</td>\n",
       "      <td>1</td>\n",
       "      <td>0</td>\n",
       "      <td>0</td>\n",
       "      <td>0</td>\n",
       "      <td>0</td>\n",
       "      <td>1</td>\n",
       "      <td>25</td>\n",
       "      <td>6</td>\n",
       "      <td>0</td>\n",
       "      <td>82</td>\n",
       "      <td>0</td>\n",
       "      <td>1</td>\n",
       "      <td>1</td>\n",
       "      <td>122</td>\n",
       "      <td>1</td>\n",
       "    </tr>\n",
       "  </tbody>\n",
       "</table>\n",
       "</div>"
      ],
      "text/plain": [
       "      FAKEID  Y2defect  Y1G5  Y1G4  Y1G3  Y1G2  Y1G1  Y1price  YEARS  BACKER  \\\n",
       "0   580V74KT         0     0     0     1     1     1       15      8       1   \n",
       "1   298S54OK         1     0     0     1     0     1       15      3       1   \n",
       "2   268D25AO         1     1     0     0     0     1       15     11       1   \n",
       "3   312Q12WV         1     1     0     1     0     1       15      4       0   \n",
       "4   420R23VB         0     0     0     1     0     0       15      5       0   \n",
       "5   611B52LL         1     0     0     1     0     0       15      2       0   \n",
       "6   612W26VA         1     0     1     0     0     0       15      4       0   \n",
       "7   594Y59EZ         0     1     1     0     0     1       15      6       1   \n",
       "9   716W84WL         1     0     1     1     0     0       15      3       1   \n",
       "10  912U90JS         1     0     0     0     0     1       25      6       0   \n",
       "\n",
       "    AGE  INCOME  GNDR  OWNHOME  HOMEVAL  TICKUTIL  \n",
       "0    94       4     0        1      203         3  \n",
       "1    63       3     0        0       68         2  \n",
       "2    67       2     0        1       38         2  \n",
       "3    62       4     1        1       68         3  \n",
       "4    89       4     1        1      194         1  \n",
       "5    77       0     0        1       92         1  \n",
       "6    67       1     1        1      129         1  \n",
       "7    76       5     1        1      483         3  \n",
       "9    54       3     0        1       90         2  \n",
       "10   82       0     1        1      122         1  "
      ]
     },
     "execution_count": 16,
     "metadata": {},
     "output_type": "execute_result"
    }
   ],
   "source": [
    "#To create a new column from existing columns\n",
    "#The number of tickets used for Year 1 per season ticket holder\n",
    "df['TICKUTIL'] = df['Y1G5'] + df['Y1G4'] + df['Y1G3'] + df['Y1G2'] + df['Y1G1']\n",
    "df.head(10)"
   ]
  },
  {
   "cell_type": "markdown",
   "metadata": {},
   "source": [
    "## Data Visualization"
   ]
  },
  {
   "cell_type": "code",
   "execution_count": 17,
   "metadata": {},
   "outputs": [
    {
     "data": {
      "text/html": [
       "<div>\n",
       "<style>\n",
       "    .dataframe thead tr:only-child th {\n",
       "        text-align: right;\n",
       "    }\n",
       "\n",
       "    .dataframe thead th {\n",
       "        text-align: left;\n",
       "    }\n",
       "\n",
       "    .dataframe tbody tr th {\n",
       "        vertical-align: top;\n",
       "    }\n",
       "</style>\n",
       "<table border=\"1\" class=\"dataframe\">\n",
       "  <thead>\n",
       "    <tr style=\"text-align: right;\">\n",
       "      <th></th>\n",
       "      <th>Y1G5</th>\n",
       "      <th>Y1G4</th>\n",
       "      <th>Y1G3</th>\n",
       "      <th>Y1G2</th>\n",
       "      <th>Y1G1</th>\n",
       "      <th>Y1price</th>\n",
       "      <th>YEARS</th>\n",
       "      <th>BACKER</th>\n",
       "      <th>AGE</th>\n",
       "      <th>INCOME</th>\n",
       "      <th>GNDR</th>\n",
       "      <th>OWNHOME</th>\n",
       "      <th>HOMEVAL</th>\n",
       "      <th>TICKUTIL</th>\n",
       "    </tr>\n",
       "    <tr>\n",
       "      <th>Y2defect</th>\n",
       "      <th></th>\n",
       "      <th></th>\n",
       "      <th></th>\n",
       "      <th></th>\n",
       "      <th></th>\n",
       "      <th></th>\n",
       "      <th></th>\n",
       "      <th></th>\n",
       "      <th></th>\n",
       "      <th></th>\n",
       "      <th></th>\n",
       "      <th></th>\n",
       "      <th></th>\n",
       "      <th></th>\n",
       "    </tr>\n",
       "  </thead>\n",
       "  <tbody>\n",
       "    <tr>\n",
       "      <th>0</th>\n",
       "      <td>0.387807</td>\n",
       "      <td>0.499427</td>\n",
       "      <td>0.655054</td>\n",
       "      <td>0.338758</td>\n",
       "      <td>0.552143</td>\n",
       "      <td>20.146688</td>\n",
       "      <td>6.754985</td>\n",
       "      <td>0.580335</td>\n",
       "      <td>61.956223</td>\n",
       "      <td>2.892505</td>\n",
       "      <td>0.443044</td>\n",
       "      <td>0.807701</td>\n",
       "      <td>108.811827</td>\n",
       "      <td>2.433188</td>\n",
       "    </tr>\n",
       "    <tr>\n",
       "      <th>1</th>\n",
       "      <td>0.289323</td>\n",
       "      <td>0.527440</td>\n",
       "      <td>0.620436</td>\n",
       "      <td>0.238576</td>\n",
       "      <td>0.407348</td>\n",
       "      <td>19.765786</td>\n",
       "      <td>5.949024</td>\n",
       "      <td>0.391045</td>\n",
       "      <td>61.360505</td>\n",
       "      <td>2.927210</td>\n",
       "      <td>0.451435</td>\n",
       "      <td>0.794030</td>\n",
       "      <td>114.660161</td>\n",
       "      <td>2.083123</td>\n",
       "    </tr>\n",
       "  </tbody>\n",
       "</table>\n",
       "</div>"
      ],
      "text/plain": [
       "              Y1G5      Y1G4      Y1G3      Y1G2      Y1G1    Y1price  \\\n",
       "Y2defect                                                                \n",
       "0         0.387807  0.499427  0.655054  0.338758  0.552143  20.146688   \n",
       "1         0.289323  0.527440  0.620436  0.238576  0.407348  19.765786   \n",
       "\n",
       "             YEARS    BACKER        AGE    INCOME      GNDR   OWNHOME  \\\n",
       "Y2defect                                                                \n",
       "0         6.754985  0.580335  61.956223  2.892505  0.443044  0.807701   \n",
       "1         5.949024  0.391045  61.360505  2.927210  0.451435  0.794030   \n",
       "\n",
       "             HOMEVAL  TICKUTIL  \n",
       "Y2defect                        \n",
       "0         108.811827  2.433188  \n",
       "1         114.660161  2.083123  "
      ]
     },
     "execution_count": 17,
     "metadata": {},
     "output_type": "execute_result"
    }
   ],
   "source": [
    "# pivot table for Y2defect showing mean value, 1=did not renew 0=did renew\n",
    "df.groupby(['Y2defect']).mean()"
   ]
  },
  {
   "cell_type": "markdown",
   "metadata": {},
   "source": [
    "Likely to defect: \n",
    "- Are not backers of the team\n",
    "- Have high home values\n",
    "- Had slightly less years a season ticket holder"
   ]
  },
  {
   "cell_type": "code",
   "execution_count": 18,
   "metadata": {},
   "outputs": [
    {
     "data": {
      "text/html": [
       "<div>\n",
       "<style>\n",
       "    .dataframe thead tr:only-child th {\n",
       "        text-align: right;\n",
       "    }\n",
       "\n",
       "    .dataframe thead th {\n",
       "        text-align: left;\n",
       "    }\n",
       "\n",
       "    .dataframe tbody tr th {\n",
       "        vertical-align: top;\n",
       "    }\n",
       "</style>\n",
       "<table border=\"1\" class=\"dataframe\">\n",
       "  <thead>\n",
       "    <tr style=\"text-align: right;\">\n",
       "      <th></th>\n",
       "      <th></th>\n",
       "      <th>FAKEID</th>\n",
       "      <th>Y1G5</th>\n",
       "      <th>Y1G4</th>\n",
       "      <th>Y1G3</th>\n",
       "      <th>Y1G2</th>\n",
       "      <th>Y1G1</th>\n",
       "      <th>Y1price</th>\n",
       "      <th>YEARS</th>\n",
       "      <th>AGE</th>\n",
       "      <th>INCOME</th>\n",
       "      <th>GNDR</th>\n",
       "      <th>OWNHOME</th>\n",
       "      <th>HOMEVAL</th>\n",
       "      <th>TICKUTIL</th>\n",
       "    </tr>\n",
       "    <tr>\n",
       "      <th>Y2defect</th>\n",
       "      <th>BACKER</th>\n",
       "      <th></th>\n",
       "      <th></th>\n",
       "      <th></th>\n",
       "      <th></th>\n",
       "      <th></th>\n",
       "      <th></th>\n",
       "      <th></th>\n",
       "      <th></th>\n",
       "      <th></th>\n",
       "      <th></th>\n",
       "      <th></th>\n",
       "      <th></th>\n",
       "      <th></th>\n",
       "      <th></th>\n",
       "    </tr>\n",
       "  </thead>\n",
       "  <tbody>\n",
       "    <tr>\n",
       "      <th rowspan=\"2\" valign=\"top\">0</th>\n",
       "      <th>0</th>\n",
       "      <td>1831</td>\n",
       "      <td>1831</td>\n",
       "      <td>1831</td>\n",
       "      <td>1831</td>\n",
       "      <td>1831</td>\n",
       "      <td>1831</td>\n",
       "      <td>1831</td>\n",
       "      <td>1831</td>\n",
       "      <td>1831</td>\n",
       "      <td>1831</td>\n",
       "      <td>1831</td>\n",
       "      <td>1831</td>\n",
       "      <td>1831</td>\n",
       "      <td>1831</td>\n",
       "    </tr>\n",
       "    <tr>\n",
       "      <th>1</th>\n",
       "      <td>2532</td>\n",
       "      <td>2532</td>\n",
       "      <td>2532</td>\n",
       "      <td>2532</td>\n",
       "      <td>2532</td>\n",
       "      <td>2532</td>\n",
       "      <td>2532</td>\n",
       "      <td>2532</td>\n",
       "      <td>2532</td>\n",
       "      <td>2532</td>\n",
       "      <td>2532</td>\n",
       "      <td>2532</td>\n",
       "      <td>2532</td>\n",
       "      <td>2532</td>\n",
       "    </tr>\n",
       "    <tr>\n",
       "      <th rowspan=\"2\" valign=\"top\">1</th>\n",
       "      <th>0</th>\n",
       "      <td>2652</td>\n",
       "      <td>2652</td>\n",
       "      <td>2652</td>\n",
       "      <td>2652</td>\n",
       "      <td>2652</td>\n",
       "      <td>2652</td>\n",
       "      <td>2652</td>\n",
       "      <td>2652</td>\n",
       "      <td>2652</td>\n",
       "      <td>2652</td>\n",
       "      <td>2652</td>\n",
       "      <td>2652</td>\n",
       "      <td>2652</td>\n",
       "      <td>2652</td>\n",
       "    </tr>\n",
       "    <tr>\n",
       "      <th>1</th>\n",
       "      <td>1703</td>\n",
       "      <td>1703</td>\n",
       "      <td>1703</td>\n",
       "      <td>1703</td>\n",
       "      <td>1703</td>\n",
       "      <td>1703</td>\n",
       "      <td>1703</td>\n",
       "      <td>1703</td>\n",
       "      <td>1703</td>\n",
       "      <td>1703</td>\n",
       "      <td>1703</td>\n",
       "      <td>1703</td>\n",
       "      <td>1703</td>\n",
       "      <td>1703</td>\n",
       "    </tr>\n",
       "  </tbody>\n",
       "</table>\n",
       "</div>"
      ],
      "text/plain": [
       "                 FAKEID  Y1G5  Y1G4  Y1G3  Y1G2  Y1G1  Y1price  YEARS   AGE  \\\n",
       "Y2defect BACKER                                                               \n",
       "0        0         1831  1831  1831  1831  1831  1831     1831   1831  1831   \n",
       "         1         2532  2532  2532  2532  2532  2532     2532   2532  2532   \n",
       "1        0         2652  2652  2652  2652  2652  2652     2652   2652  2652   \n",
       "         1         1703  1703  1703  1703  1703  1703     1703   1703  1703   \n",
       "\n",
       "                 INCOME  GNDR  OWNHOME  HOMEVAL  TICKUTIL  \n",
       "Y2defect BACKER                                            \n",
       "0        0         1831  1831     1831     1831      1831  \n",
       "         1         2532  2532     2532     2532      2532  \n",
       "1        0         2652  2652     2652     2652      2652  \n",
       "         1         1703  1703     1703     1703      1703  "
      ]
     },
     "execution_count": 18,
     "metadata": {},
     "output_type": "execute_result"
    }
   ],
   "source": [
    "# pivot table using both Y2defect and BACKER\n",
    "df.groupby(['Y2defect', 'BACKER']).count()"
   ]
  },
  {
   "cell_type": "code",
   "execution_count": 19,
   "metadata": {},
   "outputs": [
    {
     "data": {
      "text/html": [
       "<div>\n",
       "<style>\n",
       "    .dataframe thead tr:only-child th {\n",
       "        text-align: right;\n",
       "    }\n",
       "\n",
       "    .dataframe thead th {\n",
       "        text-align: left;\n",
       "    }\n",
       "\n",
       "    .dataframe tbody tr th {\n",
       "        vertical-align: top;\n",
       "    }\n",
       "</style>\n",
       "<table border=\"1\" class=\"dataframe\">\n",
       "  <thead>\n",
       "    <tr style=\"text-align: right;\">\n",
       "      <th></th>\n",
       "      <th></th>\n",
       "      <th>Y1G5</th>\n",
       "      <th>Y1G4</th>\n",
       "      <th>Y1G3</th>\n",
       "      <th>Y1G2</th>\n",
       "      <th>Y1G1</th>\n",
       "      <th>Y1price</th>\n",
       "      <th>YEARS</th>\n",
       "      <th>BACKER</th>\n",
       "      <th>AGE</th>\n",
       "      <th>INCOME</th>\n",
       "      <th>GNDR</th>\n",
       "      <th>OWNHOME</th>\n",
       "      <th>HOMEVAL</th>\n",
       "    </tr>\n",
       "    <tr>\n",
       "      <th>Y2defect</th>\n",
       "      <th>TICKUTIL</th>\n",
       "      <th></th>\n",
       "      <th></th>\n",
       "      <th></th>\n",
       "      <th></th>\n",
       "      <th></th>\n",
       "      <th></th>\n",
       "      <th></th>\n",
       "      <th></th>\n",
       "      <th></th>\n",
       "      <th></th>\n",
       "      <th></th>\n",
       "      <th></th>\n",
       "      <th></th>\n",
       "    </tr>\n",
       "  </thead>\n",
       "  <tbody>\n",
       "    <tr>\n",
       "      <th rowspan=\"5\" valign=\"top\">0</th>\n",
       "      <th>1</th>\n",
       "      <td>0.100320</td>\n",
       "      <td>0.175027</td>\n",
       "      <td>0.479189</td>\n",
       "      <td>0.059765</td>\n",
       "      <td>0.185699</td>\n",
       "      <td>19.850587</td>\n",
       "      <td>6.237994</td>\n",
       "      <td>0.454642</td>\n",
       "      <td>61.008538</td>\n",
       "      <td>2.897545</td>\n",
       "      <td>0.455710</td>\n",
       "      <td>0.801494</td>\n",
       "      <td>109.980790</td>\n",
       "    </tr>\n",
       "    <tr>\n",
       "      <th>2</th>\n",
       "      <td>0.274604</td>\n",
       "      <td>0.465244</td>\n",
       "      <td>0.622849</td>\n",
       "      <td>0.192017</td>\n",
       "      <td>0.445286</td>\n",
       "      <td>20.474880</td>\n",
       "      <td>6.501721</td>\n",
       "      <td>0.533379</td>\n",
       "      <td>61.671025</td>\n",
       "      <td>2.909842</td>\n",
       "      <td>0.465244</td>\n",
       "      <td>0.814178</td>\n",
       "      <td>108.094288</td>\n",
       "    </tr>\n",
       "    <tr>\n",
       "      <th>3</th>\n",
       "      <td>0.491566</td>\n",
       "      <td>0.577510</td>\n",
       "      <td>0.714859</td>\n",
       "      <td>0.477108</td>\n",
       "      <td>0.738956</td>\n",
       "      <td>20.309237</td>\n",
       "      <td>7.059438</td>\n",
       "      <td>0.646586</td>\n",
       "      <td>62.616064</td>\n",
       "      <td>2.896386</td>\n",
       "      <td>0.417671</td>\n",
       "      <td>0.811245</td>\n",
       "      <td>110.964659</td>\n",
       "    </tr>\n",
       "    <tr>\n",
       "      <th>4</th>\n",
       "      <td>0.765781</td>\n",
       "      <td>0.820598</td>\n",
       "      <td>0.810631</td>\n",
       "      <td>0.702658</td>\n",
       "      <td>0.900332</td>\n",
       "      <td>19.717608</td>\n",
       "      <td>7.322259</td>\n",
       "      <td>0.705980</td>\n",
       "      <td>62.284053</td>\n",
       "      <td>2.827243</td>\n",
       "      <td>0.436877</td>\n",
       "      <td>0.800664</td>\n",
       "      <td>105.872093</td>\n",
       "    </tr>\n",
       "    <tr>\n",
       "      <th>5</th>\n",
       "      <td>1.000000</td>\n",
       "      <td>1.000000</td>\n",
       "      <td>1.000000</td>\n",
       "      <td>1.000000</td>\n",
       "      <td>1.000000</td>\n",
       "      <td>19.007937</td>\n",
       "      <td>7.801587</td>\n",
       "      <td>0.801587</td>\n",
       "      <td>64.206349</td>\n",
       "      <td>2.928571</td>\n",
       "      <td>0.373016</td>\n",
       "      <td>0.777778</td>\n",
       "      <td>101.166667</td>\n",
       "    </tr>\n",
       "    <tr>\n",
       "      <th rowspan=\"5\" valign=\"top\">1</th>\n",
       "      <th>1</th>\n",
       "      <td>0.062031</td>\n",
       "      <td>0.244717</td>\n",
       "      <td>0.475119</td>\n",
       "      <td>0.057260</td>\n",
       "      <td>0.160873</td>\n",
       "      <td>19.355828</td>\n",
       "      <td>5.259714</td>\n",
       "      <td>0.289025</td>\n",
       "      <td>60.750511</td>\n",
       "      <td>2.920927</td>\n",
       "      <td>0.458078</td>\n",
       "      <td>0.788003</td>\n",
       "      <td>114.113838</td>\n",
       "    </tr>\n",
       "    <tr>\n",
       "      <th>2</th>\n",
       "      <td>0.185741</td>\n",
       "      <td>0.612258</td>\n",
       "      <td>0.660413</td>\n",
       "      <td>0.184490</td>\n",
       "      <td>0.357098</td>\n",
       "      <td>19.646654</td>\n",
       "      <td>5.657286</td>\n",
       "      <td>0.363352</td>\n",
       "      <td>60.731082</td>\n",
       "      <td>2.916823</td>\n",
       "      <td>0.436523</td>\n",
       "      <td>0.791745</td>\n",
       "      <td>114.438399</td>\n",
       "    </tr>\n",
       "    <tr>\n",
       "      <th>3</th>\n",
       "      <td>0.586248</td>\n",
       "      <td>0.669481</td>\n",
       "      <td>0.669481</td>\n",
       "      <td>0.400483</td>\n",
       "      <td>0.674306</td>\n",
       "      <td>20.379976</td>\n",
       "      <td>6.973462</td>\n",
       "      <td>0.527141</td>\n",
       "      <td>62.864897</td>\n",
       "      <td>2.979493</td>\n",
       "      <td>0.482509</td>\n",
       "      <td>0.805790</td>\n",
       "      <td>116.646562</td>\n",
       "    </tr>\n",
       "    <tr>\n",
       "      <th>4</th>\n",
       "      <td>0.805263</td>\n",
       "      <td>0.852632</td>\n",
       "      <td>0.826316</td>\n",
       "      <td>0.652632</td>\n",
       "      <td>0.863158</td>\n",
       "      <td>20.315789</td>\n",
       "      <td>7.144737</td>\n",
       "      <td>0.539474</td>\n",
       "      <td>62.294737</td>\n",
       "      <td>2.921053</td>\n",
       "      <td>0.431579</td>\n",
       "      <td>0.807895</td>\n",
       "      <td>112.402632</td>\n",
       "    </tr>\n",
       "    <tr>\n",
       "      <th>5</th>\n",
       "      <td>1.000000</td>\n",
       "      <td>1.000000</td>\n",
       "      <td>1.000000</td>\n",
       "      <td>1.000000</td>\n",
       "      <td>1.000000</td>\n",
       "      <td>20.687500</td>\n",
       "      <td>8.125000</td>\n",
       "      <td>0.700000</td>\n",
       "      <td>65.100000</td>\n",
       "      <td>2.737500</td>\n",
       "      <td>0.400000</td>\n",
       "      <td>0.762500</td>\n",
       "      <td>119.250000</td>\n",
       "    </tr>\n",
       "  </tbody>\n",
       "</table>\n",
       "</div>"
      ],
      "text/plain": [
       "                       Y1G5      Y1G4      Y1G3      Y1G2      Y1G1  \\\n",
       "Y2defect TICKUTIL                                                     \n",
       "0        1         0.100320  0.175027  0.479189  0.059765  0.185699   \n",
       "         2         0.274604  0.465244  0.622849  0.192017  0.445286   \n",
       "         3         0.491566  0.577510  0.714859  0.477108  0.738956   \n",
       "         4         0.765781  0.820598  0.810631  0.702658  0.900332   \n",
       "         5         1.000000  1.000000  1.000000  1.000000  1.000000   \n",
       "1        1         0.062031  0.244717  0.475119  0.057260  0.160873   \n",
       "         2         0.185741  0.612258  0.660413  0.184490  0.357098   \n",
       "         3         0.586248  0.669481  0.669481  0.400483  0.674306   \n",
       "         4         0.805263  0.852632  0.826316  0.652632  0.863158   \n",
       "         5         1.000000  1.000000  1.000000  1.000000  1.000000   \n",
       "\n",
       "                     Y1price     YEARS    BACKER        AGE    INCOME  \\\n",
       "Y2defect TICKUTIL                                                       \n",
       "0        1         19.850587  6.237994  0.454642  61.008538  2.897545   \n",
       "         2         20.474880  6.501721  0.533379  61.671025  2.909842   \n",
       "         3         20.309237  7.059438  0.646586  62.616064  2.896386   \n",
       "         4         19.717608  7.322259  0.705980  62.284053  2.827243   \n",
       "         5         19.007937  7.801587  0.801587  64.206349  2.928571   \n",
       "1        1         19.355828  5.259714  0.289025  60.750511  2.920927   \n",
       "         2         19.646654  5.657286  0.363352  60.731082  2.916823   \n",
       "         3         20.379976  6.973462  0.527141  62.864897  2.979493   \n",
       "         4         20.315789  7.144737  0.539474  62.294737  2.921053   \n",
       "         5         20.687500  8.125000  0.700000  65.100000  2.737500   \n",
       "\n",
       "                       GNDR   OWNHOME     HOMEVAL  \n",
       "Y2defect TICKUTIL                                  \n",
       "0        1         0.455710  0.801494  109.980790  \n",
       "         2         0.465244  0.814178  108.094288  \n",
       "         3         0.417671  0.811245  110.964659  \n",
       "         4         0.436877  0.800664  105.872093  \n",
       "         5         0.373016  0.777778  101.166667  \n",
       "1        1         0.458078  0.788003  114.113838  \n",
       "         2         0.436523  0.791745  114.438399  \n",
       "         3         0.482509  0.805790  116.646562  \n",
       "         4         0.431579  0.807895  112.402632  \n",
       "         5         0.400000  0.762500  119.250000  "
      ]
     },
     "execution_count": 19,
     "metadata": {},
     "output_type": "execute_result"
    }
   ],
   "source": [
    "# pivot table using both Y2defect and INCOME\n",
    "df.groupby(['Y2defect', 'TICKUTIL']).mean()"
   ]
  },
  {
   "cell_type": "code",
   "execution_count": 20,
   "metadata": {},
   "outputs": [
    {
     "data": {
      "text/html": [
       "<div>\n",
       "<style>\n",
       "    .dataframe thead tr:only-child th {\n",
       "        text-align: right;\n",
       "    }\n",
       "\n",
       "    .dataframe thead th {\n",
       "        text-align: left;\n",
       "    }\n",
       "\n",
       "    .dataframe tbody tr th {\n",
       "        vertical-align: top;\n",
       "    }\n",
       "</style>\n",
       "<table border=\"1\" class=\"dataframe\">\n",
       "  <thead>\n",
       "    <tr style=\"text-align: right;\">\n",
       "      <th></th>\n",
       "      <th></th>\n",
       "      <th>Y1G5</th>\n",
       "      <th>Y1G4</th>\n",
       "      <th>Y1G3</th>\n",
       "      <th>Y1G2</th>\n",
       "      <th>Y1G1</th>\n",
       "      <th>YEARS</th>\n",
       "      <th>BACKER</th>\n",
       "      <th>AGE</th>\n",
       "      <th>INCOME</th>\n",
       "      <th>GNDR</th>\n",
       "      <th>OWNHOME</th>\n",
       "      <th>HOMEVAL</th>\n",
       "      <th>TICKUTIL</th>\n",
       "    </tr>\n",
       "    <tr>\n",
       "      <th>Y2defect</th>\n",
       "      <th>Y1price</th>\n",
       "      <th></th>\n",
       "      <th></th>\n",
       "      <th></th>\n",
       "      <th></th>\n",
       "      <th></th>\n",
       "      <th></th>\n",
       "      <th></th>\n",
       "      <th></th>\n",
       "      <th></th>\n",
       "      <th></th>\n",
       "      <th></th>\n",
       "      <th></th>\n",
       "      <th></th>\n",
       "    </tr>\n",
       "  </thead>\n",
       "  <tbody>\n",
       "    <tr>\n",
       "      <th rowspan=\"3\" valign=\"top\">0</th>\n",
       "      <th>15</th>\n",
       "      <td>0.375175</td>\n",
       "      <td>0.495105</td>\n",
       "      <td>0.679021</td>\n",
       "      <td>0.331469</td>\n",
       "      <td>0.571678</td>\n",
       "      <td>6.758392</td>\n",
       "      <td>0.646154</td>\n",
       "      <td>62.781469</td>\n",
       "      <td>2.772727</td>\n",
       "      <td>0.426923</td>\n",
       "      <td>0.815734</td>\n",
       "      <td>102.384266</td>\n",
       "      <td>2.452448</td>\n",
       "    </tr>\n",
       "    <tr>\n",
       "      <th>25</th>\n",
       "      <td>0.412106</td>\n",
       "      <td>0.511609</td>\n",
       "      <td>0.605307</td>\n",
       "      <td>0.345771</td>\n",
       "      <td>0.509950</td>\n",
       "      <td>6.659204</td>\n",
       "      <td>0.452736</td>\n",
       "      <td>60.243781</td>\n",
       "      <td>3.093698</td>\n",
       "      <td>0.470149</td>\n",
       "      <td>0.802653</td>\n",
       "      <td>119.277778</td>\n",
       "      <td>2.384743</td>\n",
       "    </tr>\n",
       "    <tr>\n",
       "      <th>50</th>\n",
       "      <td>0.410774</td>\n",
       "      <td>0.491582</td>\n",
       "      <td>0.626263</td>\n",
       "      <td>0.380471</td>\n",
       "      <td>0.535354</td>\n",
       "      <td>7.111111</td>\n",
       "      <td>0.464646</td>\n",
       "      <td>60.962963</td>\n",
       "      <td>3.228956</td>\n",
       "      <td>0.488215</td>\n",
       "      <td>0.750842</td>\n",
       "      <td>128.208754</td>\n",
       "      <td>2.444444</td>\n",
       "    </tr>\n",
       "    <tr>\n",
       "      <th rowspan=\"3\" valign=\"top\">1</th>\n",
       "      <th>15</th>\n",
       "      <td>0.270687</td>\n",
       "      <td>0.531557</td>\n",
       "      <td>0.636396</td>\n",
       "      <td>0.205470</td>\n",
       "      <td>0.400421</td>\n",
       "      <td>5.827840</td>\n",
       "      <td>0.415498</td>\n",
       "      <td>61.738429</td>\n",
       "      <td>2.875877</td>\n",
       "      <td>0.438289</td>\n",
       "      <td>0.791374</td>\n",
       "      <td>108.270687</td>\n",
       "      <td>2.044530</td>\n",
       "    </tr>\n",
       "    <tr>\n",
       "      <th>25</th>\n",
       "      <td>0.319466</td>\n",
       "      <td>0.520408</td>\n",
       "      <td>0.598116</td>\n",
       "      <td>0.295133</td>\n",
       "      <td>0.416013</td>\n",
       "      <td>6.127159</td>\n",
       "      <td>0.339874</td>\n",
       "      <td>60.374411</td>\n",
       "      <td>2.996860</td>\n",
       "      <td>0.463108</td>\n",
       "      <td>0.797488</td>\n",
       "      <td>124.394035</td>\n",
       "      <td>2.149137</td>\n",
       "    </tr>\n",
       "    <tr>\n",
       "      <th>50</th>\n",
       "      <td>0.353712</td>\n",
       "      <td>0.515284</td>\n",
       "      <td>0.545852</td>\n",
       "      <td>0.336245</td>\n",
       "      <td>0.445415</td>\n",
       "      <td>6.467249</td>\n",
       "      <td>0.371179</td>\n",
       "      <td>62.139738</td>\n",
       "      <td>3.179039</td>\n",
       "      <td>0.550218</td>\n",
       "      <td>0.807860</td>\n",
       "      <td>140.082969</td>\n",
       "      <td>2.196507</td>\n",
       "    </tr>\n",
       "  </tbody>\n",
       "</table>\n",
       "</div>"
      ],
      "text/plain": [
       "                      Y1G5      Y1G4      Y1G3      Y1G2      Y1G1     YEARS  \\\n",
       "Y2defect Y1price                                                               \n",
       "0        15       0.375175  0.495105  0.679021  0.331469  0.571678  6.758392   \n",
       "         25       0.412106  0.511609  0.605307  0.345771  0.509950  6.659204   \n",
       "         50       0.410774  0.491582  0.626263  0.380471  0.535354  7.111111   \n",
       "1        15       0.270687  0.531557  0.636396  0.205470  0.400421  5.827840   \n",
       "         25       0.319466  0.520408  0.598116  0.295133  0.416013  6.127159   \n",
       "         50       0.353712  0.515284  0.545852  0.336245  0.445415  6.467249   \n",
       "\n",
       "                    BACKER        AGE    INCOME      GNDR   OWNHOME  \\\n",
       "Y2defect Y1price                                                      \n",
       "0        15       0.646154  62.781469  2.772727  0.426923  0.815734   \n",
       "         25       0.452736  60.243781  3.093698  0.470149  0.802653   \n",
       "         50       0.464646  60.962963  3.228956  0.488215  0.750842   \n",
       "1        15       0.415498  61.738429  2.875877  0.438289  0.791374   \n",
       "         25       0.339874  60.374411  2.996860  0.463108  0.797488   \n",
       "         50       0.371179  62.139738  3.179039  0.550218  0.807860   \n",
       "\n",
       "                     HOMEVAL  TICKUTIL  \n",
       "Y2defect Y1price                        \n",
       "0        15       102.384266  2.452448  \n",
       "         25       119.277778  2.384743  \n",
       "         50       128.208754  2.444444  \n",
       "1        15       108.270687  2.044530  \n",
       "         25       124.394035  2.149137  \n",
       "         50       140.082969  2.196507  "
      ]
     },
     "execution_count": 20,
     "metadata": {},
     "output_type": "execute_result"
    }
   ],
   "source": [
    "# pivot table using both Y2defect and Y1price\n",
    "df.groupby(['Y2defect', 'Y1price']).mean()"
   ]
  },
  {
   "cell_type": "code",
   "execution_count": 21,
   "metadata": {},
   "outputs": [
    {
     "data": {
      "text/html": [
       "<div>\n",
       "<style>\n",
       "    .dataframe thead tr:only-child th {\n",
       "        text-align: right;\n",
       "    }\n",
       "\n",
       "    .dataframe thead th {\n",
       "        text-align: left;\n",
       "    }\n",
       "\n",
       "    .dataframe tbody tr th {\n",
       "        vertical-align: top;\n",
       "    }\n",
       "</style>\n",
       "<table border=\"1\" class=\"dataframe\">\n",
       "  <thead>\n",
       "    <tr>\n",
       "      <th></th>\n",
       "      <th colspan=\"7\" halign=\"left\">AGE</th>\n",
       "      <th colspan=\"3\" halign=\"left\">BACKER</th>\n",
       "      <th>...</th>\n",
       "      <th colspan=\"3\" halign=\"left\">Y1price</th>\n",
       "      <th colspan=\"7\" halign=\"left\">YEARS</th>\n",
       "    </tr>\n",
       "    <tr>\n",
       "      <th>INCOME</th>\n",
       "      <th>0</th>\n",
       "      <th>1</th>\n",
       "      <th>2</th>\n",
       "      <th>3</th>\n",
       "      <th>4</th>\n",
       "      <th>5</th>\n",
       "      <th>6</th>\n",
       "      <th>0</th>\n",
       "      <th>1</th>\n",
       "      <th>2</th>\n",
       "      <th>...</th>\n",
       "      <th>4</th>\n",
       "      <th>5</th>\n",
       "      <th>6</th>\n",
       "      <th>0</th>\n",
       "      <th>1</th>\n",
       "      <th>2</th>\n",
       "      <th>3</th>\n",
       "      <th>4</th>\n",
       "      <th>5</th>\n",
       "      <th>6</th>\n",
       "    </tr>\n",
       "    <tr>\n",
       "      <th>Y2defect</th>\n",
       "      <th></th>\n",
       "      <th></th>\n",
       "      <th></th>\n",
       "      <th></th>\n",
       "      <th></th>\n",
       "      <th></th>\n",
       "      <th></th>\n",
       "      <th></th>\n",
       "      <th></th>\n",
       "      <th></th>\n",
       "      <th></th>\n",
       "      <th></th>\n",
       "      <th></th>\n",
       "      <th></th>\n",
       "      <th></th>\n",
       "      <th></th>\n",
       "      <th></th>\n",
       "      <th></th>\n",
       "      <th></th>\n",
       "      <th></th>\n",
       "      <th></th>\n",
       "    </tr>\n",
       "  </thead>\n",
       "  <tbody>\n",
       "    <tr>\n",
       "      <th>0</th>\n",
       "      <td>68.065574</td>\n",
       "      <td>67.628125</td>\n",
       "      <td>61.455607</td>\n",
       "      <td>61.201868</td>\n",
       "      <td>58.946545</td>\n",
       "      <td>58.879679</td>\n",
       "      <td>57.432836</td>\n",
       "      <td>0.637002</td>\n",
       "      <td>0.635938</td>\n",
       "      <td>0.598131</td>\n",
       "      <td>...</td>\n",
       "      <td>20.788787</td>\n",
       "      <td>21.136364</td>\n",
       "      <td>21.537313</td>\n",
       "      <td>7.147541</td>\n",
       "      <td>7.176563</td>\n",
       "      <td>6.754673</td>\n",
       "      <td>6.770833</td>\n",
       "      <td>6.385919</td>\n",
       "      <td>6.518717</td>\n",
       "      <td>6.492537</td>\n",
       "    </tr>\n",
       "    <tr>\n",
       "      <th>1</th>\n",
       "      <td>68.821429</td>\n",
       "      <td>65.550580</td>\n",
       "      <td>61.045113</td>\n",
       "      <td>60.994524</td>\n",
       "      <td>58.305221</td>\n",
       "      <td>57.676471</td>\n",
       "      <td>57.544160</td>\n",
       "      <td>0.469048</td>\n",
       "      <td>0.446103</td>\n",
       "      <td>0.428571</td>\n",
       "      <td>...</td>\n",
       "      <td>19.330656</td>\n",
       "      <td>21.096257</td>\n",
       "      <td>21.068376</td>\n",
       "      <td>6.607143</td>\n",
       "      <td>6.371476</td>\n",
       "      <td>6.152882</td>\n",
       "      <td>5.734428</td>\n",
       "      <td>5.617135</td>\n",
       "      <td>5.997326</td>\n",
       "      <td>5.752137</td>\n",
       "    </tr>\n",
       "  </tbody>\n",
       "</table>\n",
       "<p>2 rows × 91 columns</p>\n",
       "</div>"
      ],
      "text/plain": [
       "                AGE                                                         \\\n",
       "INCOME            0          1          2          3          4          5   \n",
       "Y2defect                                                                     \n",
       "0         68.065574  67.628125  61.455607  61.201868  58.946545  58.879679   \n",
       "1         68.821429  65.550580  61.045113  60.994524  58.305221  57.676471   \n",
       "\n",
       "                       BACKER                        ...       Y1price  \\\n",
       "INCOME            6         0         1         2    ...             4   \n",
       "Y2defect                                             ...                 \n",
       "0         57.432836  0.637002  0.635938  0.598131    ...     20.788787   \n",
       "1         57.544160  0.469048  0.446103  0.428571    ...     19.330656   \n",
       "\n",
       "                                   YEARS                                \\\n",
       "INCOME            5          6         0         1         2         3   \n",
       "Y2defect                                                                 \n",
       "0         21.136364  21.537313  7.147541  7.176563  6.754673  6.770833   \n",
       "1         21.096257  21.068376  6.607143  6.371476  6.152882  5.734428   \n",
       "\n",
       "                                        \n",
       "INCOME           4         5         6  \n",
       "Y2defect                                \n",
       "0         6.385919  6.518717  6.492537  \n",
       "1         5.617135  5.997326  5.752137  \n",
       "\n",
       "[2 rows x 91 columns]"
      ]
     },
     "execution_count": 21,
     "metadata": {},
     "output_type": "execute_result"
    }
   ],
   "source": [
    "df.pivot_table(index=['Y2defect'], columns=['INCOME'])"
   ]
  },
  {
   "cell_type": "markdown",
   "metadata": {},
   "source": [
    "- Season ticket holders that have a lower income and are older, are likely to not renew for next year. \n",
    "- Season ticket holders that have low income and are not backers of the team are likely to not renew for the next year."
   ]
  },
  {
   "cell_type": "code",
   "execution_count": 22,
   "metadata": {},
   "outputs": [
    {
     "data": {
      "text/plain": [
       "array([[<matplotlib.axes._subplots.AxesSubplot object at 0x1c131d1410>,\n",
       "        <matplotlib.axes._subplots.AxesSubplot object at 0x1c12fea3d0>,\n",
       "        <matplotlib.axes._subplots.AxesSubplot object at 0x1c131c8110>,\n",
       "        <matplotlib.axes._subplots.AxesSubplot object at 0x1c13227910>],\n",
       "       [<matplotlib.axes._subplots.AxesSubplot object at 0x1c131692d0>,\n",
       "        <matplotlib.axes._subplots.AxesSubplot object at 0x1c13135c50>,\n",
       "        <matplotlib.axes._subplots.AxesSubplot object at 0x1c13207510>,\n",
       "        <matplotlib.axes._subplots.AxesSubplot object at 0x1c138965d0>],\n",
       "       [<matplotlib.axes._subplots.AxesSubplot object at 0x1c137a0f50>,\n",
       "        <matplotlib.axes._subplots.AxesSubplot object at 0x1c18c71e90>,\n",
       "        <matplotlib.axes._subplots.AxesSubplot object at 0x1c18c9c890>,\n",
       "        <matplotlib.axes._subplots.AxesSubplot object at 0x1c18d0f290>],\n",
       "       [<matplotlib.axes._subplots.AxesSubplot object at 0x1c18d3ce90>,\n",
       "        <matplotlib.axes._subplots.AxesSubplot object at 0x1c18d68d50>,\n",
       "        <matplotlib.axes._subplots.AxesSubplot object at 0x1c18dda290>,\n",
       "        <matplotlib.axes._subplots.AxesSubplot object at 0x1c18e19b10>]], dtype=object)"
      ]
     },
     "execution_count": 22,
     "metadata": {},
     "output_type": "execute_result"
    },
    {
     "data": {
      "image/png": "[encoded data removed]",
      "text/plain": [
       "<matplotlib.figure.Figure at 0x1c1329fdd0>"
      ]
     },
     "metadata": {},
     "output_type": "display_data"
    }
   ],
   "source": [
    "# histogram for all numerical columns\n",
    "df.hist(figsize=(20,20))"
   ]
  },
  {
   "cell_type": "code",
   "execution_count": 23,
   "metadata": {},
   "outputs": [
    {
     "data": {
      "text/plain": [
       "Y2defect\n",
       "0    [[AxesSubplot(0.125,0.725918;0.158163x0.154082...\n",
       "1    [[AxesSubplot(0.125,0.725918;0.158163x0.154082...\n",
       "dtype: object"
      ]
     },
     "execution_count": 23,
     "metadata": {},
     "output_type": "execute_result"
    },
    {
     "data": {
      "image/png": "[encoded data removed]",
      "text/plain": [
       "<matplotlib.figure.Figure at 0x1c18e92790>"
      ]
     },
     "metadata": {},
     "output_type": "display_data"
    },
    {
     "data": {
      "image/png": "[encoded data removed]",
      "text/plain": [
       "<matplotlib.figure.Figure at 0x1c1d797cd0>"
      ]
     },
     "metadata": {},
     "output_type": "display_data"
    }
   ],
   "source": [
    "#Histogram with Groupby\n",
    "df.groupby('Y2defect').hist(figsize=(20,20))\n",
    "\n",
    "#Figure 1: those who did renew; Figure 2: those who did not renew"
   ]
  },
  {
   "cell_type": "markdown",
   "metadata": {},
   "source": [
    "Very similar in both figures"
   ]
  },
  {
   "cell_type": "code",
   "execution_count": 24,
   "metadata": {},
   "outputs": [
    {
     "data": {
      "text/plain": [
       "<seaborn.axisgrid.FacetGrid at 0x1c1d82f410>"
      ]
     },
     "execution_count": 24,
     "metadata": {},
     "output_type": "execute_result"
    },
    {
     "data": {
      "image/png": "[encoded data removed]",
      "text/plain": [
       "<matplotlib.figure.Figure at 0x1c1329f790>"
      ]
     },
     "metadata": {},
     "output_type": "display_data"
    }
   ],
   "source": [
    "# linear regression & scatter chart for Y2defect and Y1price\n",
    "sns.lmplot(\"Y2defect\", \"Y1price\", df , x_jitter=.15)"
   ]
  },
  {
   "cell_type": "markdown",
   "metadata": {},
   "source": [
    "People who paid for a lower ticket price are most likely to not renew for the next year."
   ]
  },
  {
   "cell_type": "code",
   "execution_count": 25,
   "metadata": {},
   "outputs": [
    {
     "data": {
      "text/plain": [
       "<seaborn.axisgrid.FacetGrid at 0x1c1d2fb1d0>"
      ]
     },
     "execution_count": 25,
     "metadata": {},
     "output_type": "execute_result"
    },
    {
     "data": {
      "image/png": "[encoded data removed]",
      "text/plain": [
       "<matplotlib.figure.Figure at 0x1c1d2c27d0>"
      ]
     },
     "metadata": {},
     "output_type": "display_data"
    }
   ],
   "source": [
    "# linear regression & scatter chart for Y2defect and BACKER\n",
    "sns.lmplot(\"Y2defect\", \"BACKER\", df , x_jitter=.15)"
   ]
  },
  {
   "cell_type": "markdown",
   "metadata": {},
   "source": [
    "Season ticket holders that are backers are most likely to renew for the next year"
   ]
  },
  {
   "cell_type": "markdown",
   "metadata": {},
   "source": [
    "## Exploratory Data Analysis"
   ]
  },
  {
   "cell_type": "code",
   "execution_count": 26,
   "metadata": {},
   "outputs": [
    {
     "data": {
      "text/html": [
       "<div>\n",
       "<style>\n",
       "    .dataframe thead tr:only-child th {\n",
       "        text-align: right;\n",
       "    }\n",
       "\n",
       "    .dataframe thead th {\n",
       "        text-align: left;\n",
       "    }\n",
       "\n",
       "    .dataframe tbody tr th {\n",
       "        vertical-align: top;\n",
       "    }\n",
       "</style>\n",
       "<table border=\"1\" class=\"dataframe\">\n",
       "  <thead>\n",
       "    <tr style=\"text-align: right;\">\n",
       "      <th></th>\n",
       "      <th>Y2defect</th>\n",
       "      <th>Y1G5</th>\n",
       "      <th>Y1G4</th>\n",
       "      <th>Y1G3</th>\n",
       "      <th>Y1G2</th>\n",
       "      <th>Y1G1</th>\n",
       "      <th>Y1price</th>\n",
       "      <th>YEARS</th>\n",
       "      <th>BACKER</th>\n",
       "      <th>AGE</th>\n",
       "      <th>INCOME</th>\n",
       "      <th>GNDR</th>\n",
       "      <th>OWNHOME</th>\n",
       "      <th>HOMEVAL</th>\n",
       "      <th>TICKUTIL</th>\n",
       "    </tr>\n",
       "  </thead>\n",
       "  <tbody>\n",
       "    <tr>\n",
       "      <th>count</th>\n",
       "      <td>8718.000000</td>\n",
       "      <td>8718.000000</td>\n",
       "      <td>8718.000000</td>\n",
       "      <td>8718.000000</td>\n",
       "      <td>8718.000000</td>\n",
       "      <td>8718.000000</td>\n",
       "      <td>8718.000000</td>\n",
       "      <td>8718.000000</td>\n",
       "      <td>8718.000000</td>\n",
       "      <td>8718.000000</td>\n",
       "      <td>8718.000000</td>\n",
       "      <td>8718.000000</td>\n",
       "      <td>8718.000000</td>\n",
       "      <td>8718.000000</td>\n",
       "      <td>8718.000000</td>\n",
       "    </tr>\n",
       "    <tr>\n",
       "      <th>mean</th>\n",
       "      <td>0.499541</td>\n",
       "      <td>0.338610</td>\n",
       "      <td>0.513421</td>\n",
       "      <td>0.637761</td>\n",
       "      <td>0.288713</td>\n",
       "      <td>0.479812</td>\n",
       "      <td>19.956412</td>\n",
       "      <td>6.352374</td>\n",
       "      <td>0.485777</td>\n",
       "      <td>61.658637</td>\n",
       "      <td>2.909842</td>\n",
       "      <td>0.447236</td>\n",
       "      <td>0.800872</td>\n",
       "      <td>111.733310</td>\n",
       "      <td>2.258316</td>\n",
       "    </tr>\n",
       "    <tr>\n",
       "      <th>std</th>\n",
       "      <td>0.500028</td>\n",
       "      <td>0.473264</td>\n",
       "      <td>0.499849</td>\n",
       "      <td>0.480675</td>\n",
       "      <td>0.453190</td>\n",
       "      <td>0.499621</td>\n",
       "      <td>8.820436</td>\n",
       "      <td>2.872007</td>\n",
       "      <td>0.499826</td>\n",
       "      <td>14.828058</td>\n",
       "      <td>1.660365</td>\n",
       "      <td>0.497237</td>\n",
       "      <td>0.399368</td>\n",
       "      <td>92.143323</td>\n",
       "      <td>1.053696</td>\n",
       "    </tr>\n",
       "    <tr>\n",
       "      <th>min</th>\n",
       "      <td>0.000000</td>\n",
       "      <td>0.000000</td>\n",
       "      <td>0.000000</td>\n",
       "      <td>0.000000</td>\n",
       "      <td>0.000000</td>\n",
       "      <td>0.000000</td>\n",
       "      <td>15.000000</td>\n",
       "      <td>2.000000</td>\n",
       "      <td>0.000000</td>\n",
       "      <td>12.000000</td>\n",
       "      <td>0.000000</td>\n",
       "      <td>0.000000</td>\n",
       "      <td>0.000000</td>\n",
       "      <td>0.000000</td>\n",
       "      <td>1.000000</td>\n",
       "    </tr>\n",
       "    <tr>\n",
       "      <th>25%</th>\n",
       "      <td>0.000000</td>\n",
       "      <td>0.000000</td>\n",
       "      <td>0.000000</td>\n",
       "      <td>0.000000</td>\n",
       "      <td>0.000000</td>\n",
       "      <td>0.000000</td>\n",
       "      <td>15.000000</td>\n",
       "      <td>4.000000</td>\n",
       "      <td>0.000000</td>\n",
       "      <td>51.000000</td>\n",
       "      <td>2.000000</td>\n",
       "      <td>0.000000</td>\n",
       "      <td>1.000000</td>\n",
       "      <td>55.000000</td>\n",
       "      <td>1.000000</td>\n",
       "    </tr>\n",
       "    <tr>\n",
       "      <th>50%</th>\n",
       "      <td>0.000000</td>\n",
       "      <td>0.000000</td>\n",
       "      <td>1.000000</td>\n",
       "      <td>1.000000</td>\n",
       "      <td>0.000000</td>\n",
       "      <td>0.000000</td>\n",
       "      <td>15.000000</td>\n",
       "      <td>6.000000</td>\n",
       "      <td>0.000000</td>\n",
       "      <td>63.000000</td>\n",
       "      <td>3.000000</td>\n",
       "      <td>0.000000</td>\n",
       "      <td>1.000000</td>\n",
       "      <td>80.000000</td>\n",
       "      <td>2.000000</td>\n",
       "    </tr>\n",
       "    <tr>\n",
       "      <th>75%</th>\n",
       "      <td>1.000000</td>\n",
       "      <td>1.000000</td>\n",
       "      <td>1.000000</td>\n",
       "      <td>1.000000</td>\n",
       "      <td>1.000000</td>\n",
       "      <td>1.000000</td>\n",
       "      <td>25.000000</td>\n",
       "      <td>9.000000</td>\n",
       "      <td>1.000000</td>\n",
       "      <td>72.000000</td>\n",
       "      <td>4.000000</td>\n",
       "      <td>1.000000</td>\n",
       "      <td>1.000000</td>\n",
       "      <td>132.000000</td>\n",
       "      <td>3.000000</td>\n",
       "    </tr>\n",
       "    <tr>\n",
       "      <th>max</th>\n",
       "      <td>1.000000</td>\n",
       "      <td>1.000000</td>\n",
       "      <td>1.000000</td>\n",
       "      <td>1.000000</td>\n",
       "      <td>1.000000</td>\n",
       "      <td>1.000000</td>\n",
       "      <td>50.000000</td>\n",
       "      <td>24.000000</td>\n",
       "      <td>1.000000</td>\n",
       "      <td>97.000000</td>\n",
       "      <td>6.000000</td>\n",
       "      <td>1.000000</td>\n",
       "      <td>1.000000</td>\n",
       "      <td>600.000000</td>\n",
       "      <td>5.000000</td>\n",
       "    </tr>\n",
       "  </tbody>\n",
       "</table>\n",
       "</div>"
      ],
      "text/plain": [
       "          Y2defect         Y1G5         Y1G4         Y1G3         Y1G2  \\\n",
       "count  8718.000000  8718.000000  8718.000000  8718.000000  8718.000000   \n",
       "mean      0.499541     0.338610     0.513421     0.637761     0.288713   \n",
       "std       0.500028     0.473264     0.499849     0.480675     0.453190   \n",
       "min       0.000000     0.000000     0.000000     0.000000     0.000000   \n",
       "25%       0.000000     0.000000     0.000000     0.000000     0.000000   \n",
       "50%       0.000000     0.000000     1.000000     1.000000     0.000000   \n",
       "75%       1.000000     1.000000     1.000000     1.000000     1.000000   \n",
       "max       1.000000     1.000000     1.000000     1.000000     1.000000   \n",
       "\n",
       "              Y1G1      Y1price        YEARS       BACKER          AGE  \\\n",
       "count  8718.000000  8718.000000  8718.000000  8718.000000  8718.000000   \n",
       "mean      0.479812    19.956412     6.352374     0.485777    61.658637   \n",
       "std       0.499621     8.820436     2.872007     0.499826    14.828058   \n",
       "min       0.000000    15.000000     2.000000     0.000000    12.000000   \n",
       "25%       0.000000    15.000000     4.000000     0.000000    51.000000   \n",
       "50%       0.000000    15.000000     6.000000     0.000000    63.000000   \n",
       "75%       1.000000    25.000000     9.000000     1.000000    72.000000   \n",
       "max       1.000000    50.000000    24.000000     1.000000    97.000000   \n",
       "\n",
       "            INCOME         GNDR      OWNHOME      HOMEVAL     TICKUTIL  \n",
       "count  8718.000000  8718.000000  8718.000000  8718.000000  8718.000000  \n",
       "mean      2.909842     0.447236     0.800872   111.733310     2.258316  \n",
       "std       1.660365     0.497237     0.399368    92.143323     1.053696  \n",
       "min       0.000000     0.000000     0.000000     0.000000     1.000000  \n",
       "25%       2.000000     0.000000     1.000000    55.000000     1.000000  \n",
       "50%       3.000000     0.000000     1.000000    80.000000     2.000000  \n",
       "75%       4.000000     1.000000     1.000000   132.000000     3.000000  \n",
       "max       6.000000     1.000000     1.000000   600.000000     5.000000  "
      ]
     },
     "execution_count": 26,
     "metadata": {},
     "output_type": "execute_result"
    }
   ],
   "source": [
    "#To find some basic statistics about the dataset\n",
    "df.describe()"
   ]
  },
  {
   "cell_type": "code",
   "execution_count": 27,
   "metadata": {},
   "outputs": [
    {
     "data": {
      "text/html": [
       "<div>\n",
       "<style>\n",
       "    .dataframe thead tr:only-child th {\n",
       "        text-align: right;\n",
       "    }\n",
       "\n",
       "    .dataframe thead th {\n",
       "        text-align: left;\n",
       "    }\n",
       "\n",
       "    .dataframe tbody tr th {\n",
       "        vertical-align: top;\n",
       "    }\n",
       "</style>\n",
       "<table border=\"1\" class=\"dataframe\">\n",
       "  <thead>\n",
       "    <tr style=\"text-align: right;\">\n",
       "      <th></th>\n",
       "      <th>Y2defect</th>\n",
       "      <th>Y1G5</th>\n",
       "      <th>Y1G4</th>\n",
       "      <th>Y1G3</th>\n",
       "      <th>Y1G2</th>\n",
       "      <th>Y1G1</th>\n",
       "      <th>Y1price</th>\n",
       "      <th>YEARS</th>\n",
       "      <th>BACKER</th>\n",
       "      <th>AGE</th>\n",
       "      <th>INCOME</th>\n",
       "      <th>GNDR</th>\n",
       "      <th>OWNHOME</th>\n",
       "      <th>HOMEVAL</th>\n",
       "      <th>TICKUTIL</th>\n",
       "    </tr>\n",
       "  </thead>\n",
       "  <tbody>\n",
       "    <tr>\n",
       "      <th>Y2defect</th>\n",
       "      <td>1.000000</td>\n",
       "      <td>-0.104053</td>\n",
       "      <td>0.028023</td>\n",
       "      <td>-0.036011</td>\n",
       "      <td>-0.110535</td>\n",
       "      <td>-0.144913</td>\n",
       "      <td>-0.021593</td>\n",
       "      <td>-0.140321</td>\n",
       "      <td>-0.189366</td>\n",
       "      <td>-0.020089</td>\n",
       "      <td>0.010452</td>\n",
       "      <td>0.008438</td>\n",
       "      <td>-0.017117</td>\n",
       "      <td>0.031737</td>\n",
       "      <td>-0.166122</td>\n",
       "    </tr>\n",
       "    <tr>\n",
       "      <th>Y1G5</th>\n",
       "      <td>-0.104053</td>\n",
       "      <td>1.000000</td>\n",
       "      <td>0.090870</td>\n",
       "      <td>-0.151624</td>\n",
       "      <td>0.113242</td>\n",
       "      <td>0.122065</td>\n",
       "      <td>0.041598</td>\n",
       "      <td>0.123376</td>\n",
       "      <td>0.047036</td>\n",
       "      <td>0.030646</td>\n",
       "      <td>0.001043</td>\n",
       "      <td>-0.008892</td>\n",
       "      <td>0.013248</td>\n",
       "      <td>0.002908</td>\n",
       "      <td>0.529669</td>\n",
       "    </tr>\n",
       "    <tr>\n",
       "      <th>Y1G4</th>\n",
       "      <td>0.028023</td>\n",
       "      <td>0.090870</td>\n",
       "      <td>1.000000</td>\n",
       "      <td>-0.080509</td>\n",
       "      <td>-0.073067</td>\n",
       "      <td>-0.093543</td>\n",
       "      <td>-0.003770</td>\n",
       "      <td>-0.089599</td>\n",
       "      <td>-0.088774</td>\n",
       "      <td>-0.063692</td>\n",
       "      <td>0.006849</td>\n",
       "      <td>-0.002689</td>\n",
       "      <td>0.039249</td>\n",
       "      <td>0.002141</td>\n",
       "      <td>0.402683</td>\n",
       "    </tr>\n",
       "    <tr>\n",
       "      <th>Y1G3</th>\n",
       "      <td>-0.036011</td>\n",
       "      <td>-0.151624</td>\n",
       "      <td>-0.080509</td>\n",
       "      <td>1.000000</td>\n",
       "      <td>-0.090708</td>\n",
       "      <td>-0.137456</td>\n",
       "      <td>-0.047423</td>\n",
       "      <td>-0.099819</td>\n",
       "      <td>0.006247</td>\n",
       "      <td>-0.025560</td>\n",
       "      <td>0.019158</td>\n",
       "      <td>-0.001742</td>\n",
       "      <td>-0.035167</td>\n",
       "      <td>0.003211</td>\n",
       "      <td>0.245697</td>\n",
       "    </tr>\n",
       "    <tr>\n",
       "      <th>Y1G2</th>\n",
       "      <td>-0.110535</td>\n",
       "      <td>0.113242</td>\n",
       "      <td>-0.073067</td>\n",
       "      <td>-0.090708</td>\n",
       "      <td>1.000000</td>\n",
       "      <td>0.207887</td>\n",
       "      <td>0.060402</td>\n",
       "      <td>0.320920</td>\n",
       "      <td>0.277685</td>\n",
       "      <td>0.094220</td>\n",
       "      <td>-0.011293</td>\n",
       "      <td>-0.005443</td>\n",
       "      <td>-0.000503</td>\n",
       "      <td>-0.015342</td>\n",
       "      <td>0.503490</td>\n",
       "    </tr>\n",
       "    <tr>\n",
       "      <th>Y1G1</th>\n",
       "      <td>-0.144913</td>\n",
       "      <td>0.122065</td>\n",
       "      <td>-0.093543</td>\n",
       "      <td>-0.137456</td>\n",
       "      <td>0.207887</td>\n",
       "      <td>1.000000</td>\n",
       "      <td>-0.003844</td>\n",
       "      <td>0.245281</td>\n",
       "      <td>0.259089</td>\n",
       "      <td>0.084670</td>\n",
       "      <td>-0.028331</td>\n",
       "      <td>-0.026223</td>\n",
       "      <td>-0.004626</td>\n",
       "      <td>-0.012690</td>\n",
       "      <td>0.511318</td>\n",
       "    </tr>\n",
       "    <tr>\n",
       "      <th>Y1price</th>\n",
       "      <td>-0.021593</td>\n",
       "      <td>0.041598</td>\n",
       "      <td>-0.003770</td>\n",
       "      <td>-0.047423</td>\n",
       "      <td>0.060402</td>\n",
       "      <td>-0.003844</td>\n",
       "      <td>1.000000</td>\n",
       "      <td>0.043650</td>\n",
       "      <td>-0.088352</td>\n",
       "      <td>-0.032278</td>\n",
       "      <td>0.068938</td>\n",
       "      <td>0.045249</td>\n",
       "      <td>-0.015816</td>\n",
       "      <td>0.091856</td>\n",
       "      <td>0.019418</td>\n",
       "    </tr>\n",
       "    <tr>\n",
       "      <th>YEARS</th>\n",
       "      <td>-0.140321</td>\n",
       "      <td>0.123376</td>\n",
       "      <td>-0.089599</td>\n",
       "      <td>-0.099819</td>\n",
       "      <td>0.320920</td>\n",
       "      <td>0.245281</td>\n",
       "      <td>0.043650</td>\n",
       "      <td>1.000000</td>\n",
       "      <td>0.532929</td>\n",
       "      <td>0.283154</td>\n",
       "      <td>-0.088194</td>\n",
       "      <td>-0.013408</td>\n",
       "      <td>0.002173</td>\n",
       "      <td>-0.047321</td>\n",
       "      <td>0.221704</td>\n",
       "    </tr>\n",
       "    <tr>\n",
       "      <th>BACKER</th>\n",
       "      <td>-0.189366</td>\n",
       "      <td>0.047036</td>\n",
       "      <td>-0.088774</td>\n",
       "      <td>0.006247</td>\n",
       "      <td>0.277685</td>\n",
       "      <td>0.259089</td>\n",
       "      <td>-0.088352</td>\n",
       "      <td>0.532929</td>\n",
       "      <td>1.000000</td>\n",
       "      <td>0.180273</td>\n",
       "      <td>-0.085729</td>\n",
       "      <td>-0.024022</td>\n",
       "      <td>-0.009018</td>\n",
       "      <td>-0.065270</td>\n",
       "      <td>0.224144</td>\n",
       "    </tr>\n",
       "    <tr>\n",
       "      <th>AGE</th>\n",
       "      <td>-0.020089</td>\n",
       "      <td>0.030646</td>\n",
       "      <td>-0.063692</td>\n",
       "      <td>-0.025560</td>\n",
       "      <td>0.094220</td>\n",
       "      <td>0.084670</td>\n",
       "      <td>-0.032278</td>\n",
       "      <td>0.283154</td>\n",
       "      <td>0.180273</td>\n",
       "      <td>1.000000</td>\n",
       "      <td>-0.221130</td>\n",
       "      <td>0.018002</td>\n",
       "      <td>-0.055513</td>\n",
       "      <td>-0.010786</td>\n",
       "      <td>0.052562</td>\n",
       "    </tr>\n",
       "    <tr>\n",
       "      <th>INCOME</th>\n",
       "      <td>0.010452</td>\n",
       "      <td>0.001043</td>\n",
       "      <td>0.006849</td>\n",
       "      <td>0.019158</td>\n",
       "      <td>-0.011293</td>\n",
       "      <td>-0.028331</td>\n",
       "      <td>0.068938</td>\n",
       "      <td>-0.088194</td>\n",
       "      <td>-0.085729</td>\n",
       "      <td>-0.221130</td>\n",
       "      <td>1.000000</td>\n",
       "      <td>0.064964</td>\n",
       "      <td>-0.023445</td>\n",
       "      <td>0.275205</td>\n",
       "      <td>-0.005833</td>\n",
       "    </tr>\n",
       "    <tr>\n",
       "      <th>GNDR</th>\n",
       "      <td>0.008438</td>\n",
       "      <td>-0.008892</td>\n",
       "      <td>-0.002689</td>\n",
       "      <td>-0.001742</td>\n",
       "      <td>-0.005443</td>\n",
       "      <td>-0.026223</td>\n",
       "      <td>0.045249</td>\n",
       "      <td>-0.013408</td>\n",
       "      <td>-0.024022</td>\n",
       "      <td>0.018002</td>\n",
       "      <td>0.064964</td>\n",
       "      <td>1.000000</td>\n",
       "      <td>0.060312</td>\n",
       "      <td>0.022454</td>\n",
       "      <td>-0.020839</td>\n",
       "    </tr>\n",
       "    <tr>\n",
       "      <th>OWNHOME</th>\n",
       "      <td>-0.017117</td>\n",
       "      <td>0.013248</td>\n",
       "      <td>0.039249</td>\n",
       "      <td>-0.035167</td>\n",
       "      <td>-0.000503</td>\n",
       "      <td>-0.004626</td>\n",
       "      <td>-0.015816</td>\n",
       "      <td>0.002173</td>\n",
       "      <td>-0.009018</td>\n",
       "      <td>-0.055513</td>\n",
       "      <td>-0.023445</td>\n",
       "      <td>0.060312</td>\n",
       "      <td>1.000000</td>\n",
       "      <td>-0.057984</td>\n",
       "      <td>0.006117</td>\n",
       "    </tr>\n",
       "    <tr>\n",
       "      <th>HOMEVAL</th>\n",
       "      <td>0.031737</td>\n",
       "      <td>0.002908</td>\n",
       "      <td>0.002141</td>\n",
       "      <td>0.003211</td>\n",
       "      <td>-0.015342</td>\n",
       "      <td>-0.012690</td>\n",
       "      <td>0.091856</td>\n",
       "      <td>-0.047321</td>\n",
       "      <td>-0.065270</td>\n",
       "      <td>-0.010786</td>\n",
       "      <td>0.275205</td>\n",
       "      <td>0.022454</td>\n",
       "      <td>-0.057984</td>\n",
       "      <td>1.000000</td>\n",
       "      <td>-0.008829</td>\n",
       "    </tr>\n",
       "    <tr>\n",
       "      <th>TICKUTIL</th>\n",
       "      <td>-0.166122</td>\n",
       "      <td>0.529669</td>\n",
       "      <td>0.402683</td>\n",
       "      <td>0.245697</td>\n",
       "      <td>0.503490</td>\n",
       "      <td>0.511318</td>\n",
       "      <td>0.019418</td>\n",
       "      <td>0.221704</td>\n",
       "      <td>0.224144</td>\n",
       "      <td>0.052562</td>\n",
       "      <td>-0.005833</td>\n",
       "      <td>-0.020839</td>\n",
       "      <td>0.006117</td>\n",
       "      <td>-0.008829</td>\n",
       "      <td>1.000000</td>\n",
       "    </tr>\n",
       "  </tbody>\n",
       "</table>\n",
       "</div>"
      ],
      "text/plain": [
       "          Y2defect      Y1G5      Y1G4      Y1G3      Y1G2      Y1G1  \\\n",
       "Y2defect  1.000000 -0.104053  0.028023 -0.036011 -0.110535 -0.144913   \n",
       "Y1G5     -0.104053  1.000000  0.090870 -0.151624  0.113242  0.122065   \n",
       "Y1G4      0.028023  0.090870  1.000000 -0.080509 -0.073067 -0.093543   \n",
       "Y1G3     -0.036011 -0.151624 -0.080509  1.000000 -0.090708 -0.137456   \n",
       "Y1G2     -0.110535  0.113242 -0.073067 -0.090708  1.000000  0.207887   \n",
       "Y1G1     -0.144913  0.122065 -0.093543 -0.137456  0.207887  1.000000   \n",
       "Y1price  -0.021593  0.041598 -0.003770 -0.047423  0.060402 -0.003844   \n",
       "YEARS    -0.140321  0.123376 -0.089599 -0.099819  0.320920  0.245281   \n",
       "BACKER   -0.189366  0.047036 -0.088774  0.006247  0.277685  0.259089   \n",
       "AGE      -0.020089  0.030646 -0.063692 -0.025560  0.094220  0.084670   \n",
       "INCOME    0.010452  0.001043  0.006849  0.019158 -0.011293 -0.028331   \n",
       "GNDR      0.008438 -0.008892 -0.002689 -0.001742 -0.005443 -0.026223   \n",
       "OWNHOME  -0.017117  0.013248  0.039249 -0.035167 -0.000503 -0.004626   \n",
       "HOMEVAL   0.031737  0.002908  0.002141  0.003211 -0.015342 -0.012690   \n",
       "TICKUTIL -0.166122  0.529669  0.402683  0.245697  0.503490  0.511318   \n",
       "\n",
       "           Y1price     YEARS    BACKER       AGE    INCOME      GNDR  \\\n",
       "Y2defect -0.021593 -0.140321 -0.189366 -0.020089  0.010452  0.008438   \n",
       "Y1G5      0.041598  0.123376  0.047036  0.030646  0.001043 -0.008892   \n",
       "Y1G4     -0.003770 -0.089599 -0.088774 -0.063692  0.006849 -0.002689   \n",
       "Y1G3     -0.047423 -0.099819  0.006247 -0.025560  0.019158 -0.001742   \n",
       "Y1G2      0.060402  0.320920  0.277685  0.094220 -0.011293 -0.005443   \n",
       "Y1G1     -0.003844  0.245281  0.259089  0.084670 -0.028331 -0.026223   \n",
       "Y1price   1.000000  0.043650 -0.088352 -0.032278  0.068938  0.045249   \n",
       "YEARS     0.043650  1.000000  0.532929  0.283154 -0.088194 -0.013408   \n",
       "BACKER   -0.088352  0.532929  1.000000  0.180273 -0.085729 -0.024022   \n",
       "AGE      -0.032278  0.283154  0.180273  1.000000 -0.221130  0.018002   \n",
       "INCOME    0.068938 -0.088194 -0.085729 -0.221130  1.000000  0.064964   \n",
       "GNDR      0.045249 -0.013408 -0.024022  0.018002  0.064964  1.000000   \n",
       "OWNHOME  -0.015816  0.002173 -0.009018 -0.055513 -0.023445  0.060312   \n",
       "HOMEVAL   0.091856 -0.047321 -0.065270 -0.010786  0.275205  0.022454   \n",
       "TICKUTIL  0.019418  0.221704  0.224144  0.052562 -0.005833 -0.020839   \n",
       "\n",
       "           OWNHOME   HOMEVAL  TICKUTIL  \n",
       "Y2defect -0.017117  0.031737 -0.166122  \n",
       "Y1G5      0.013248  0.002908  0.529669  \n",
       "Y1G4      0.039249  0.002141  0.402683  \n",
       "Y1G3     -0.035167  0.003211  0.245697  \n",
       "Y1G2     -0.000503 -0.015342  0.503490  \n",
       "Y1G1     -0.004626 -0.012690  0.511318  \n",
       "Y1price  -0.015816  0.091856  0.019418  \n",
       "YEARS     0.002173 -0.047321  0.221704  \n",
       "BACKER   -0.009018 -0.065270  0.224144  \n",
       "AGE      -0.055513 -0.010786  0.052562  \n",
       "INCOME   -0.023445  0.275205 -0.005833  \n",
       "GNDR      0.060312  0.022454 -0.020839  \n",
       "OWNHOME   1.000000 -0.057984  0.006117  \n",
       "HOMEVAL  -0.057984  1.000000 -0.008829  \n",
       "TICKUTIL  0.006117 -0.008829  1.000000  "
      ]
     },
     "execution_count": 27,
     "metadata": {},
     "output_type": "execute_result"
    }
   ],
   "source": [
    "# correlation analysis\n",
    "df.corr()"
   ]
  },
  {
   "cell_type": "markdown",
   "metadata": {},
   "source": [
    "- Y1G2 is positively correlated with Years\n",
    "- Years and Backer are positively correlated\n",
    "- Y1G1 through Y1G5 are positively correlated\n",
    "- Y2defect not significantly correlated with other variables"
   ]
  },
  {
   "cell_type": "code",
   "execution_count": 28,
   "metadata": {},
   "outputs": [
    {
     "data": {
      "text/plain": [
       "<matplotlib.axes._subplots.AxesSubplot at 0x1c1e80ed50>"
      ]
     },
     "execution_count": 28,
     "metadata": {},
     "output_type": "execute_result"
    },
    {
     "data": {
      "image/png": "[encoded data removed]",
      "text/plain": [
       "<matplotlib.figure.Figure at 0x1c1f3e0f10>"
      ]
     },
     "metadata": {},
     "output_type": "display_data"
    }
   ],
   "source": [
    "# To make a heatmap of the correlation results\n",
    "plt.figure(figsize=(8,8))\n",
    "sns.heatmap(df.corr(), vmax=.8, square=True, annot=True, fmt=\".1f\")"
   ]
  },
  {
   "cell_type": "code",
   "execution_count": 29,
   "metadata": {},
   "outputs": [
    {
     "data": {
      "text/html": [
       "<div>\n",
       "<style>\n",
       "    .dataframe thead tr:only-child th {\n",
       "        text-align: right;\n",
       "    }\n",
       "\n",
       "    .dataframe thead th {\n",
       "        text-align: left;\n",
       "    }\n",
       "\n",
       "    .dataframe tbody tr th {\n",
       "        vertical-align: top;\n",
       "    }\n",
       "</style>\n",
       "<table border=\"1\" class=\"dataframe\">\n",
       "  <thead>\n",
       "    <tr style=\"text-align: right;\">\n",
       "      <th></th>\n",
       "      <th>BACKER</th>\n",
       "      <th>YEARS</th>\n",
       "    </tr>\n",
       "  </thead>\n",
       "  <tbody>\n",
       "    <tr>\n",
       "      <th>BACKER</th>\n",
       "      <td>1.000000</td>\n",
       "      <td>0.532929</td>\n",
       "    </tr>\n",
       "    <tr>\n",
       "      <th>YEARS</th>\n",
       "      <td>0.532929</td>\n",
       "      <td>1.000000</td>\n",
       "    </tr>\n",
       "  </tbody>\n",
       "</table>\n",
       "</div>"
      ],
      "text/plain": [
       "          BACKER     YEARS\n",
       "BACKER  1.000000  0.532929\n",
       "YEARS   0.532929  1.000000"
      ]
     },
     "execution_count": 29,
     "metadata": {},
     "output_type": "execute_result"
    }
   ],
   "source": [
    "# find out correlation of two columns: BACKER, YEARS\n",
    "df[['BACKER','YEARS']].corr()"
   ]
  },
  {
   "cell_type": "code",
   "execution_count": 30,
   "metadata": {},
   "outputs": [
    {
     "data": {
      "text/plain": [
       "<seaborn.axisgrid.JointGrid at 0x1c1f3c8d10>"
      ]
     },
     "execution_count": 30,
     "metadata": {},
     "output_type": "execute_result"
    },
    {
     "data": {
      "image/png": "[encoded data removed]",
      "text/plain": [
       "<matplotlib.figure.Figure at 0x1c1f3c8d90>"
      ]
     },
     "metadata": {},
     "output_type": "display_data"
    }
   ],
   "source": [
    "sns.jointplot(\"BACKER\", \"YEARS\", df, kind=\"hex\", color=\"#8855AA\")"
   ]
  },
  {
   "cell_type": "markdown",
   "metadata": {},
   "source": [
    "- There is a **meaningful correlation** between the two variables"
   ]
  },
  {
   "cell_type": "markdown",
   "metadata": {},
   "source": [
    "### 2-Sample Test"
   ]
  },
  {
   "cell_type": "markdown",
   "metadata": {},
   "source": [
    "**Null Hypothesis:**There is no difference between female and male in terms of season ticket holders renewing and not renewing for the next year. "
   ]
  },
  {
   "cell_type": "code",
   "execution_count": 31,
   "metadata": {},
   "outputs": [
    {
     "data": {
      "text/plain": [
       "Ttest_indResult(statistic=-0.78783952348241204, pvalue=0.43081200374778916)"
      ]
     },
     "execution_count": 31,
     "metadata": {},
     "output_type": "execute_result"
    }
   ],
   "source": [
    "#Perform a T-Test\n",
    "female_holder = df[df['GNDR'] == 0]['Y2defect']\n",
    "male_holder = df[df['GNDR'] == 1]['Y2defect']\n",
    "stats.ttest_ind(female_holder, male_holder)"
   ]
  },
  {
   "cell_type": "code",
   "execution_count": 32,
   "metadata": {},
   "outputs": [
    {
     "name": "stdout",
     "output_type": "stream",
     "text": [
      "The t-statistic is -0.788 and the p-value is 0.431.\n"
     ]
    }
   ],
   "source": [
    "#print three decimal points\n",
    "two_sample = stats.ttest_ind(female_holder, male_holder)\n",
    "print \"The t-statistic is %.3f and the p-value is %.3f.\" % two_sample"
   ]
  },
  {
   "cell_type": "markdown",
   "metadata": {},
   "source": [
    "- Null hypothesis says two means are almost same.\n",
    "- p-value is a probability if the null hypothesis is true. A low p-value (< 0.01) means we can reject the null hypothesis\n",
    "- Since we have a high p-value, we accept the null hypothesis that there is no significant difference between male and female ticket holders in defecting and not defecting(No difference)"
   ]
  },
  {
   "cell_type": "code",
   "execution_count": 33,
   "metadata": {},
   "outputs": [
    {
     "name": "stderr",
     "output_type": "stream",
     "text": [
      "/anaconda2/lib/python2.7/site-packages/numpy/core/fromnumeric.py:57: FutureWarning: reshape is deprecated and will raise in a subsequent release. Please use .values.reshape(...) instead\n",
      "  return getattr(obj, method)(*args, **kwds)\n"
     ]
    },
    {
     "data": {
      "text/plain": [
       "<matplotlib.axes._subplots.AxesSubplot at 0x1c13b40890>"
      ]
     },
     "execution_count": 33,
     "metadata": {},
     "output_type": "execute_result"
    },
    {
     "data": {
      "image/png": "[encoded data removed]",
      "text/plain": [
       "<matplotlib.figure.Figure at 0x1c1922b750>"
      ]
     },
     "metadata": {},
     "output_type": "display_data"
    }
   ],
   "source": [
    "#Create a boxplot\n",
    "df.boxplot('Y2defect', by='GNDR', figsize=(8, 8))"
   ]
  },
  {
   "cell_type": "markdown",
   "metadata": {},
   "source": [
    "**Null Hypothesis:**There is a significant difference between those who are members of the team's \"backer\" club and those who are not in terms of defecting or not defecting. "
   ]
  },
  {
   "cell_type": "code",
   "execution_count": 34,
   "metadata": {},
   "outputs": [
    {
     "data": {
      "text/plain": [
       "Ttest_indResult(statistic=-18.004929656148811, pvalue=3.4388109465393212e-71)"
      ]
     },
     "execution_count": 34,
     "metadata": {},
     "output_type": "execute_result"
    }
   ],
   "source": [
    "Backer_Y = df[df['BACKER'] == 1]['Y2defect']\n",
    "Backer_N = df[df['BACKER'] == 0]['Y2defect']\n",
    "stats.ttest_ind(Backer_Y, Backer_N)"
   ]
  },
  {
   "cell_type": "code",
   "execution_count": 35,
   "metadata": {},
   "outputs": [
    {
     "name": "stdout",
     "output_type": "stream",
     "text": [
      "The t-statistic is -18.005 and the p-value is 0.000.\n"
     ]
    }
   ],
   "source": [
    "two_sample = stats.ttest_ind(Backer_Y, Backer_N)\n",
    "print \"The t-statistic is %.3f and the p-value is %.3f.\" % two_sample"
   ]
  },
  {
   "cell_type": "markdown",
   "metadata": {},
   "source": [
    "- Null hypothesis says two means are almost same.\n",
    "- p-value is a probability if the null hypothesis is true. A low p-value (< 0.01) means we can reject the null hypothesis\n",
    "- Since we have a very low p-value, we reject the null hypothesis of there is no significant difference between those who are members and not members of team's backer club who defect or do not defect. "
   ]
  },
  {
   "cell_type": "code",
   "execution_count": 36,
   "metadata": {},
   "outputs": [
    {
     "data": {
      "text/plain": [
       "<matplotlib.axes._subplots.AxesSubplot at 0x1c1922b3d0>"
      ]
     },
     "execution_count": 36,
     "metadata": {},
     "output_type": "execute_result"
    },
    {
     "data": {
      "image/png": "[encoded data removed]",
      "text/plain": [
       "<matplotlib.figure.Figure at 0x1c19314750>"
      ]
     },
     "metadata": {},
     "output_type": "display_data"
    }
   ],
   "source": [
    "df.boxplot('Y2defect', by='BACKER', figsize=(8, 8))"
   ]
  },
  {
   "cell_type": "markdown",
   "metadata": {},
   "source": [
    "### ANOVA"
   ]
  },
  {
   "cell_type": "code",
   "execution_count": 37,
   "metadata": {},
   "outputs": [
    {
     "data": {
      "text/plain": [
       "<matplotlib.axes._subplots.AxesSubplot at 0x1c194bf290>"
      ]
     },
     "execution_count": 37,
     "metadata": {},
     "output_type": "execute_result"
    },
    {
     "data": {
      "image/png": "[encoded data removed]",
      "text/plain": [
       "<matplotlib.figure.Figure at 0x1c197f54d0>"
      ]
     },
     "metadata": {},
     "output_type": "display_data"
    }
   ],
   "source": [
    "# Display a boxplot of two columns\n",
    "df.boxplot('Y2defect', by='INCOME', figsize=(12, 8))"
   ]
  },
  {
   "cell_type": "code",
   "execution_count": 38,
   "metadata": {},
   "outputs": [
    {
     "name": "stdout",
     "output_type": "stream",
     "text": [
      "One-way ANOVA P = 0.612871457095\n"
     ]
    }
   ],
   "source": [
    "# To test differences more than three samples or groups\n",
    "low = df[df['INCOME'] == 0]['Y2defect']\n",
    "med_low = df[df['INCOME'] == 1]['Y2defect']\n",
    "high_low = df[df['INCOME'] == 2]['Y2defect']\n",
    "med = df[df['INCOME'] == 3]['Y2defect']\n",
    "med_med = df[df['INCOME'] == 4]['Y2defect']\n",
    "high_med = df[df['INCOME'] == 5]['Y2defect']\n",
    "high = df[df['INCOME'] == 6]['Y2defect']\n",
    "\n",
    "f_val, p_val = stats.f_oneway(low, med_low, high_low, med, med_med, high_med, high)  \n",
    "  \n",
    "print \"One-way ANOVA P =\", p_val  "
   ]
  },
  {
   "cell_type": "markdown",
   "metadata": {},
   "source": [
    "There is no significant difference between types of income"
   ]
  },
  {
   "cell_type": "code",
   "execution_count": 39,
   "metadata": {},
   "outputs": [
    {
     "name": "stdout",
     "output_type": "stream",
     "text": [
      "              df       sum_sq   mean_sq         F    PR(>F)\n",
      "INCOME       1.0     0.238079  0.238079  0.952203  0.329186\n",
      "Residual  8716.0  2179.260086  0.250030       NaN       NaN\n"
     ]
    },
    {
     "name": "stderr",
     "output_type": "stream",
     "text": [
      "/anaconda2/lib/python2.7/site-packages/scipy/stats/_distn_infrastructure.py:879: RuntimeWarning: invalid value encountered in greater\n",
      "  return (self.a < x) & (x < self.b)\n",
      "/anaconda2/lib/python2.7/site-packages/scipy/stats/_distn_infrastructure.py:879: RuntimeWarning: invalid value encountered in less\n",
      "  return (self.a < x) & (x < self.b)\n",
      "/anaconda2/lib/python2.7/site-packages/scipy/stats/_distn_infrastructure.py:1818: RuntimeWarning: invalid value encountered in less_equal\n",
      "  cond2 = cond0 & (x <= self.a)\n"
     ]
    }
   ],
   "source": [
    "# ANOVA test using the python package \"statsmodels\"\n",
    "import statsmodels.api as sm\n",
    "from statsmodels.formula.api import ols\n",
    "\n",
    "mod = ols('Y2defect ~ INCOME', data=df).fit()\n",
    "                \n",
    "aov_table = sm.stats.anova_lm(mod)\n",
    "print aov_table"
   ]
  },
  {
   "cell_type": "markdown",
   "metadata": {},
   "source": [
    "The p-value is very high, meaning there is no significant difference of people who defect or do not defect with different incomes.  "
   ]
  },
  {
   "cell_type": "markdown",
   "metadata": {},
   "source": [
    "## Model Building"
   ]
  },
  {
   "cell_type": "code",
   "execution_count": 40,
   "metadata": {},
   "outputs": [
    {
     "data": {
      "text/html": [
       "<div>\n",
       "<style>\n",
       "    .dataframe thead tr:only-child th {\n",
       "        text-align: right;\n",
       "    }\n",
       "\n",
       "    .dataframe thead th {\n",
       "        text-align: left;\n",
       "    }\n",
       "\n",
       "    .dataframe tbody tr th {\n",
       "        vertical-align: top;\n",
       "    }\n",
       "</style>\n",
       "<table border=\"1\" class=\"dataframe\">\n",
       "  <thead>\n",
       "    <tr style=\"text-align: right;\">\n",
       "      <th></th>\n",
       "      <th>Y2defect</th>\n",
       "      <th>Y1G5</th>\n",
       "      <th>Y1G4</th>\n",
       "      <th>Y1G3</th>\n",
       "      <th>Y1G2</th>\n",
       "      <th>Y1G1</th>\n",
       "      <th>Y1price</th>\n",
       "      <th>YEARS</th>\n",
       "      <th>BACKER</th>\n",
       "      <th>AGE</th>\n",
       "      <th>INCOME</th>\n",
       "      <th>GNDR</th>\n",
       "      <th>OWNHOME</th>\n",
       "      <th>HOMEVAL</th>\n",
       "      <th>TICKUTIL</th>\n",
       "    </tr>\n",
       "  </thead>\n",
       "  <tbody>\n",
       "    <tr>\n",
       "      <th>0</th>\n",
       "      <td>0</td>\n",
       "      <td>0</td>\n",
       "      <td>0</td>\n",
       "      <td>1</td>\n",
       "      <td>1</td>\n",
       "      <td>1</td>\n",
       "      <td>15</td>\n",
       "      <td>8</td>\n",
       "      <td>1</td>\n",
       "      <td>94</td>\n",
       "      <td>4</td>\n",
       "      <td>0</td>\n",
       "      <td>1</td>\n",
       "      <td>203</td>\n",
       "      <td>3</td>\n",
       "    </tr>\n",
       "    <tr>\n",
       "      <th>1</th>\n",
       "      <td>1</td>\n",
       "      <td>0</td>\n",
       "      <td>0</td>\n",
       "      <td>1</td>\n",
       "      <td>0</td>\n",
       "      <td>1</td>\n",
       "      <td>15</td>\n",
       "      <td>3</td>\n",
       "      <td>1</td>\n",
       "      <td>63</td>\n",
       "      <td>3</td>\n",
       "      <td>0</td>\n",
       "      <td>0</td>\n",
       "      <td>68</td>\n",
       "      <td>2</td>\n",
       "    </tr>\n",
       "    <tr>\n",
       "      <th>2</th>\n",
       "      <td>1</td>\n",
       "      <td>1</td>\n",
       "      <td>0</td>\n",
       "      <td>0</td>\n",
       "      <td>0</td>\n",
       "      <td>1</td>\n",
       "      <td>15</td>\n",
       "      <td>11</td>\n",
       "      <td>1</td>\n",
       "      <td>67</td>\n",
       "      <td>2</td>\n",
       "      <td>0</td>\n",
       "      <td>1</td>\n",
       "      <td>38</td>\n",
       "      <td>2</td>\n",
       "    </tr>\n",
       "    <tr>\n",
       "      <th>3</th>\n",
       "      <td>1</td>\n",
       "      <td>1</td>\n",
       "      <td>0</td>\n",
       "      <td>1</td>\n",
       "      <td>0</td>\n",
       "      <td>1</td>\n",
       "      <td>15</td>\n",
       "      <td>4</td>\n",
       "      <td>0</td>\n",
       "      <td>62</td>\n",
       "      <td>4</td>\n",
       "      <td>1</td>\n",
       "      <td>1</td>\n",
       "      <td>68</td>\n",
       "      <td>3</td>\n",
       "    </tr>\n",
       "    <tr>\n",
       "      <th>4</th>\n",
       "      <td>0</td>\n",
       "      <td>0</td>\n",
       "      <td>0</td>\n",
       "      <td>1</td>\n",
       "      <td>0</td>\n",
       "      <td>0</td>\n",
       "      <td>15</td>\n",
       "      <td>5</td>\n",
       "      <td>0</td>\n",
       "      <td>89</td>\n",
       "      <td>4</td>\n",
       "      <td>1</td>\n",
       "      <td>1</td>\n",
       "      <td>194</td>\n",
       "      <td>1</td>\n",
       "    </tr>\n",
       "  </tbody>\n",
       "</table>\n",
       "</div>"
      ],
      "text/plain": [
       "   Y2defect  Y1G5  Y1G4  Y1G3  Y1G2  Y1G1  Y1price  YEARS  BACKER  AGE  \\\n",
       "0         0     0     0     1     1     1       15      8       1   94   \n",
       "1         1     0     0     1     0     1       15      3       1   63   \n",
       "2         1     1     0     0     0     1       15     11       1   67   \n",
       "3         1     1     0     1     0     1       15      4       0   62   \n",
       "4         0     0     0     1     0     0       15      5       0   89   \n",
       "\n",
       "   INCOME  GNDR  OWNHOME  HOMEVAL  TICKUTIL  \n",
       "0       4     0        1      203         3  \n",
       "1       3     0        0       68         2  \n",
       "2       2     0        1       38         2  \n",
       "3       4     1        1       68         3  \n",
       "4       4     1        1      194         1  "
      ]
     },
     "execution_count": 40,
     "metadata": {},
     "output_type": "execute_result"
    }
   ],
   "source": [
    "df = df.drop(['FAKEID'], axis=1)\n",
    "df.head()"
   ]
  },
  {
   "cell_type": "markdown",
   "metadata": {},
   "source": [
    "### Decision Tree Classifier"
   ]
  },
  {
   "cell_type": "code",
   "execution_count": 41,
   "metadata": {
    "collapsed": true
   },
   "outputs": [],
   "source": [
    "y = df['Y2defect']\n",
    "X = df[['BACKER', 'OWNHOME', 'TICKUTIL', 'Y1G2', 'Y1G1']]"
   ]
  },
  {
   "cell_type": "code",
   "execution_count": 42,
   "metadata": {
    "collapsed": true
   },
   "outputs": [],
   "source": [
    "X_train, X_test, y_train, y_test = train_test_split(X, y, test_size=0.3, random_state=0)"
   ]
  },
  {
   "cell_type": "code",
   "execution_count": 43,
   "metadata": {},
   "outputs": [
    {
     "data": {
      "text/plain": [
       "DecisionTreeClassifier(class_weight=None, criterion='gini', max_depth=None,\n",
       "            max_features=None, max_leaf_nodes=None,\n",
       "            min_impurity_decrease=0.0, min_impurity_split=None,\n",
       "            min_samples_leaf=1, min_samples_split=2,\n",
       "            min_weight_fraction_leaf=0.0, presort=False, random_state=None,\n",
       "            splitter='best')"
      ]
     },
     "execution_count": 43,
     "metadata": {},
     "output_type": "execute_result"
    }
   ],
   "source": [
    "dt = DecisionTreeClassifier()\n",
    "dt.fit(X_train, y_train)"
   ]
  },
  {
   "cell_type": "code",
   "execution_count": 44,
   "metadata": {},
   "outputs": [
    {
     "name": "stdout",
     "output_type": "stream",
     "text": [
      "0.62003058104\n",
      "--------------------------------------------------------\n",
      "[[945 355]\n",
      " [639 677]]\n",
      "--------------------------------------------------------\n",
      "             precision    recall  f1-score   support\n",
      "\n",
      "          0       0.60      0.73      0.66      1300\n",
      "          1       0.66      0.51      0.58      1316\n",
      "\n",
      "avg / total       0.63      0.62      0.62      2616\n",
      "\n",
      "--------------------------------------------------------\n",
      "0.620680383446\n"
     ]
    }
   ],
   "source": [
    "#Model evaluation\n",
    "print metrics.accuracy_score(y_test, dt.predict(X_test))\n",
    "print \"--------------------------------------------------------\"\n",
    "print metrics.confusion_matrix(y_test, dt.predict(X_test))\n",
    "print \"--------------------------------------------------------\"\n",
    "print metrics.classification_report(y_test, dt.predict(X_test))\n",
    "print \"--------------------------------------------------------\"\n",
    "print metrics.roc_auc_score(y_test, dt.predict(X_test))\n",
    "\n",
    "# y-test is the acual y value in the testing dataset\n",
    "# dt.predict(X_test) is the y value generated by the model\n",
    "    #compare actual vs predicted y value\n",
    "# If they are same, we can say the model is accurate.\n",
    "# Evaluate our model with testing\n",
    "    #build model with training set but test our model with testing data set"
   ]
  },
  {
   "cell_type": "markdown",
   "metadata": {},
   "source": [
    "The decision tree model has a **62.0%** accuracy"
   ]
  },
  {
   "cell_type": "markdown",
   "metadata": {},
   "source": [
    "### K-Nearest Neighbor"
   ]
  },
  {
   "cell_type": "code",
   "execution_count": 45,
   "metadata": {
    "collapsed": true
   },
   "outputs": [],
   "source": [
    "# declare X variables and y variable\n",
    "y = df['Y2defect']\n",
    "X = df.drop(['Y2defect'], axis=1)"
   ]
  },
  {
   "cell_type": "code",
   "execution_count": 46,
   "metadata": {},
   "outputs": [
    {
     "data": {
      "text/plain": [
       "KNeighborsClassifier(algorithm='auto', leaf_size=30, metric='minkowski',\n",
       "           metric_params=None, n_jobs=1, n_neighbors=5, p=2,\n",
       "           weights='uniform')"
      ]
     },
     "execution_count": 46,
     "metadata": {},
     "output_type": "execute_result"
    }
   ],
   "source": [
    "# evaluate the model by splitting into train and test sets & develop knn model (name it as knn)\n",
    "X_train, X_test, y_train, y_test = train_test_split(X, y, test_size=0.3, random_state=0)\n",
    "knn = KNeighborsClassifier()    #  n_neighbors=5 by default\n",
    "knn.fit(X_train, y_train)"
   ]
  },
  {
   "cell_type": "code",
   "execution_count": 47,
   "metadata": {},
   "outputs": [
    {
     "name": "stdout",
     "output_type": "stream",
     "text": [
      "0.540137614679\n",
      "[[715 585]\n",
      " [618 698]]\n",
      "             precision    recall  f1-score   support\n",
      "\n",
      "          0       0.54      0.55      0.54      1300\n",
      "          1       0.54      0.53      0.54      1316\n",
      "\n",
      "avg / total       0.54      0.54      0.54      2616\n",
      "\n",
      "0.540197568389\n"
     ]
    }
   ],
   "source": [
    "#Model evaluation without valdation\n",
    "print metrics.accuracy_score(y_test, knn.predict(X_test))\n",
    "print metrics.confusion_matrix(y_test, knn.predict(X_test))\n",
    "print metrics.classification_report(y_test, knn.predict(X_test))\n",
    "print metrics.roc_auc_score(y_test, knn.predict(X_test))"
   ]
  },
  {
   "cell_type": "markdown",
   "metadata": {},
   "source": [
    "This model has a **54.01%** accuracy"
   ]
  },
  {
   "cell_type": "markdown",
   "metadata": {},
   "source": [
    "### Linear Regression"
   ]
  },
  {
   "cell_type": "code",
   "execution_count": 48,
   "metadata": {
    "collapsed": true
   },
   "outputs": [],
   "source": [
    "#declare X variables and y variable\n",
    "y = df['Y2defect']\n",
    "X = df.drop(['Y2defect', 'GNDR', 'Y1G5', 'Y1G4', 'Y1G3'], axis=1)"
   ]
  },
  {
   "cell_type": "code",
   "execution_count": 49,
   "metadata": {},
   "outputs": [
    {
     "data": {
      "text/html": [
       "<div>\n",
       "<style>\n",
       "    .dataframe thead tr:only-child th {\n",
       "        text-align: right;\n",
       "    }\n",
       "\n",
       "    .dataframe thead th {\n",
       "        text-align: left;\n",
       "    }\n",
       "\n",
       "    .dataframe tbody tr th {\n",
       "        vertical-align: top;\n",
       "    }\n",
       "</style>\n",
       "<table border=\"1\" class=\"dataframe\">\n",
       "  <thead>\n",
       "    <tr style=\"text-align: right;\">\n",
       "      <th></th>\n",
       "      <th>Y1G2</th>\n",
       "      <th>Y1G1</th>\n",
       "      <th>Y1price</th>\n",
       "      <th>YEARS</th>\n",
       "      <th>BACKER</th>\n",
       "      <th>AGE</th>\n",
       "      <th>INCOME</th>\n",
       "      <th>OWNHOME</th>\n",
       "      <th>HOMEVAL</th>\n",
       "      <th>TICKUTIL</th>\n",
       "    </tr>\n",
       "  </thead>\n",
       "  <tbody>\n",
       "    <tr>\n",
       "      <th>0</th>\n",
       "      <td>1</td>\n",
       "      <td>1</td>\n",
       "      <td>15</td>\n",
       "      <td>8</td>\n",
       "      <td>1</td>\n",
       "      <td>94</td>\n",
       "      <td>4</td>\n",
       "      <td>1</td>\n",
       "      <td>203</td>\n",
       "      <td>3</td>\n",
       "    </tr>\n",
       "    <tr>\n",
       "      <th>1</th>\n",
       "      <td>0</td>\n",
       "      <td>1</td>\n",
       "      <td>15</td>\n",
       "      <td>3</td>\n",
       "      <td>1</td>\n",
       "      <td>63</td>\n",
       "      <td>3</td>\n",
       "      <td>0</td>\n",
       "      <td>68</td>\n",
       "      <td>2</td>\n",
       "    </tr>\n",
       "  </tbody>\n",
       "</table>\n",
       "</div>"
      ],
      "text/plain": [
       "   Y1G2  Y1G1  Y1price  YEARS  BACKER  AGE  INCOME  OWNHOME  HOMEVAL  TICKUTIL\n",
       "0     1     1       15      8       1   94       4        1      203         3\n",
       "1     0     1       15      3       1   63       3        0       68         2"
      ]
     },
     "execution_count": 49,
     "metadata": {},
     "output_type": "execute_result"
    }
   ],
   "source": [
    "X.head(2)"
   ]
  },
  {
   "cell_type": "code",
   "execution_count": 50,
   "metadata": {},
   "outputs": [
    {
     "data": {
      "text/plain": [
       "LogisticRegression(C=1.0, class_weight=None, dual=False, fit_intercept=True,\n",
       "          intercept_scaling=1, max_iter=100, multi_class='ovr', n_jobs=1,\n",
       "          penalty='l2', random_state=None, solver='liblinear', tol=0.0001,\n",
       "          verbose=0, warm_start=False)"
      ]
     },
     "execution_count": 50,
     "metadata": {},
     "output_type": "execute_result"
    }
   ],
   "source": [
    "# evaluate the model by splitting into train and test sets and build a logistic regression model\n",
    "# name it as \"lr\"\n",
    "X_train, X_test, y_train, y_test = train_test_split(X, y, test_size=0.3, random_state=0)\n",
    "lr = LogisticRegression()\n",
    "lr.fit(X_train, y_train)"
   ]
  },
  {
   "cell_type": "code",
   "execution_count": 51,
   "metadata": {},
   "outputs": [
    {
     "name": "stdout",
     "output_type": "stream",
     "text": [
      "0.612003058104\n",
      "[[810 490]\n",
      " [525 791]]\n",
      "             precision    recall  f1-score   support\n",
      "\n",
      "          0       0.61      0.62      0.61      1300\n",
      "          1       0.62      0.60      0.61      1316\n",
      "\n",
      "avg / total       0.61      0.61      0.61      2616\n",
      "\n",
      "0.612070376432\n"
     ]
    }
   ],
   "source": [
    "#Model evaluation\n",
    "print metrics.accuracy_score(y_test, lr.predict(X_test))\n",
    "print metrics.confusion_matrix(y_test, lr.predict(X_test))\n",
    "print metrics.classification_report(y_test, lr.predict(X_test))\n",
    "print metrics.roc_auc_score(y_test, lr.predict(X_test))"
   ]
  },
  {
   "cell_type": "markdown",
   "metadata": {},
   "source": [
    "The model has a **61.2%** accuracy"
   ]
  },
  {
   "cell_type": "markdown",
   "metadata": {},
   "source": [
    "# Model Selection and Evaluation"
   ]
  },
  {
   "cell_type": "markdown",
   "metadata": {},
   "source": [
    "### 10-Fold Cross Validation"
   ]
  },
  {
   "cell_type": "code",
   "execution_count": 52,
   "metadata": {},
   "outputs": [
    {
     "name": "stdout",
     "output_type": "stream",
     "text": [
      "[ 0.51088202  0.54066438  0.56815578  0.54701835  0.55045872  0.5717566\n",
      "  0.60045924  0.56946039  0.5510907   0.55223881]\n",
      "0.556218498115\n"
     ]
    }
   ],
   "source": [
    "# evaluate the decision tree model using 10-fold cross-validation\n",
    "scores = cross_val_score(dt, X, y, scoring='accuracy', cv=10)\n",
    "print scores\n",
    "print scores.mean()"
   ]
  },
  {
   "cell_type": "markdown",
   "metadata": {},
   "source": [
    "The overall Decision Tree algorithm accuracy is **55.5%**"
   ]
  },
  {
   "cell_type": "code",
   "execution_count": 53,
   "metadata": {},
   "outputs": [
    {
     "name": "stdout",
     "output_type": "stream",
     "text": [
      "[ 0.51890034  0.51660939  0.5486827   0.52178899  0.52408257  0.5304248\n",
      "  0.53960964  0.55223881  0.50861079  0.52353617]\n",
      "0.528448420615\n"
     ]
    }
   ],
   "source": [
    "# evaluate the knn model using 10-fold cross-validation\n",
    "scores = cross_val_score(knn, X, y, scoring='accuracy', cv=10)\n",
    "print scores\n",
    "print scores.mean()"
   ]
  },
  {
   "cell_type": "markdown",
   "metadata": {},
   "source": [
    "The overall K-Nearest Neighbor accuracy is **53.02%**"
   ]
  },
  {
   "cell_type": "code",
   "execution_count": 54,
   "metadata": {},
   "outputs": [
    {
     "name": "stdout",
     "output_type": "stream",
     "text": [
      "[ 0.58648339  0.604811    0.62542955  0.59059633  0.5733945   0.58897819\n",
      "  0.58668197  0.5924225   0.59586682  0.6130884 ]\n",
      "0.595775265361\n"
     ]
    }
   ],
   "source": [
    "# evaluate the logistics regression model using 10-fold cross-validation\n",
    "scores = cross_val_score(lr, X, y, scoring='accuracy', cv=10)\n",
    "print scores\n",
    "print scores.mean()"
   ]
  },
  {
   "cell_type": "markdown",
   "metadata": {},
   "source": [
    "The overall Logistic Regression accuracy is **59.8%**"
   ]
  },
  {
   "cell_type": "markdown",
   "metadata": {},
   "source": [
    "### ROC and AUC Score"
   ]
  },
  {
   "cell_type": "code",
   "execution_count": 55,
   "metadata": {},
   "outputs": [
    {
     "data": {
      "image/png": "[encoded data removed]",
      "text/plain": [
       "<matplotlib.figure.Figure at 0x1c1edb8e50>"
      ]
     },
     "metadata": {},
     "output_type": "display_data"
    },
    {
     "name": "stdout",
     "output_type": "stream",
     "text": [
      "False-positive rate: [ 0.    0.46  1.  ]\n",
      "True-positive rate:  [ 0.          0.56534954  1.        ]\n",
      "AUC score:  0.552674772036\n"
     ]
    }
   ],
   "source": [
    "#Evaluate the Decision Tree model\n",
    "y = df['Y2defect']\n",
    "X = df.drop(['Y2defect'], axis=1)\n",
    "\n",
    "# evaluate the model by splitting into train (70%) and test sets (30%)\n",
    "X_train, X_test, y_train, y_test = train_test_split(X, y, test_size=0.3, random_state=0)\n",
    "dt = DecisionTreeClassifier()\n",
    "dt.fit(X_train, y_train)\n",
    "\n",
    "#This is ROC chart based on the testing dataset\n",
    "\n",
    "fpr, tpr, thresholds = metrics.roc_curve(y_test,dt.predict(X_test))\n",
    "plt.subplot()\n",
    "plt.xlabel('false positive rate')\n",
    "plt.ylabel('true positive rate')\n",
    "plt.plot(fpr, tpr)\n",
    "plt.show()\n",
    "\n",
    "print \"False-positive rate:\", fpr\n",
    "print \"True-positive rate: \", tpr\n",
    "print \"AUC score: \", metrics.roc_auc_score(y_test, dt.predict(X_test))"
   ]
  },
  {
   "cell_type": "markdown",
   "metadata": {},
   "source": [
    "ROC chart shows a **FPR** of **46.9%**, a **TPR** of **56.5%** and an **AUC** of **54.8%**"
   ]
  },
  {
   "cell_type": "code",
   "execution_count": 56,
   "metadata": {},
   "outputs": [
    {
     "data": {
      "image/png": "[encoded data removed]",
      "text/plain": [
       "<matplotlib.figure.Figure at 0x1c202a6dd0>"
      ]
     },
     "metadata": {},
     "output_type": "display_data"
    },
    {
     "name": "stdout",
     "output_type": "stream",
     "text": [
      "False-positive rate: [ 0.          0.45153846  1.        ]\n",
      "True-positive rate:  [ 0.          0.52507599  1.        ]\n",
      "AUC score:  0.536768763152\n"
     ]
    }
   ],
   "source": [
    "# Evaluate the K-Nearest Neighbor model \n",
    "y = df['Y2defect']\n",
    "X = df.drop(['Y2defect'], axis=1)\n",
    "\n",
    "# evaluate the model by splitting into train (70%) and test sets (30%)\n",
    "X_train, X_test, y_train, y_test = train_test_split(X, y, test_size=0.3, random_state=0)\n",
    "knn = KNeighborsClassifier(n_neighbors=3)\n",
    "knn.fit(X_train, y_train)\n",
    "\n",
    "#This is ROC chart based on the testing dataset\n",
    "\n",
    "fpr, tpr, thresholds = metrics.roc_curve(y_test,knn.predict(X_test))\n",
    "plt.subplot()\n",
    "plt.xlabel('false positive rate')\n",
    "plt.ylabel('true positive rate')\n",
    "plt.plot(fpr, tpr)\n",
    "plt.show()\n",
    "\n",
    "print \"False-positive rate:\", fpr\n",
    "print \"True-positive rate: \", tpr\n",
    "print \"AUC score: \", metrics.roc_auc_score(y_test, knn.predict(X_test))"
   ]
  },
  {
   "cell_type": "markdown",
   "metadata": {},
   "source": [
    "ROC chart shows a **FPR** of **45.1%**, a **TPR** of **52.5%** and an **AUC** of **53.6%**"
   ]
  },
  {
   "cell_type": "code",
   "execution_count": 57,
   "metadata": {},
   "outputs": [
    {
     "data": {
      "image/png": "[encoded data removed]",
      "text/plain": [
       "<matplotlib.figure.Figure at 0x1c20358390>"
      ]
     },
     "metadata": {},
     "output_type": "display_data"
    },
    {
     "name": "stdout",
     "output_type": "stream",
     "text": [
      "False-positive rate: [ 0.          0.37692308  1.        ]\n",
      "True-positive rate:  [ 0.          0.60106383  1.        ]\n",
      "AUC score:  0.612070376432\n"
     ]
    }
   ],
   "source": [
    "# Evaluate the Logistics Regression Model\n",
    "y = df['Y2defect']\n",
    "X = df.drop(['Y2defect', 'GNDR', 'Y1G5', 'Y1G4', 'Y1G3'], axis=1)\n",
    "\n",
    "# evaluate the model by splitting into train (70%) and test sets (30%)\n",
    "X_train, X_test, y_train, y_test = train_test_split(X, y, test_size=0.3, random_state=0)\n",
    "lr = LogisticRegression()\n",
    "lr.fit(X_train, y_train)\n",
    "\n",
    "#This is ROC chart based on the testing dataset\n",
    "\n",
    "fpr, tpr, thresholds = metrics.roc_curve(y_test,lr.predict(X_test))\n",
    "plt.subplot()\n",
    "plt.xlabel('false positive rate')\n",
    "plt.ylabel('true positive rate')\n",
    "plt.plot(fpr, tpr)\n",
    "plt.show()\n",
    "\n",
    "print \"False-positive rate:\", fpr\n",
    "print \"True-positive rate: \", tpr\n",
    "print \"AUC score: \", metrics.roc_auc_score(y_test, lr.predict(X_test))"
   ]
  },
  {
   "cell_type": "markdown",
   "metadata": {},
   "source": [
    "ROC chart shows a **FPR** of **37.6%**, a **TPR** of **60.1%** and an **AUC** of **61.2%**"
   ]
  },
  {
   "cell_type": "markdown",
   "metadata": {},
   "source": [
    "### The best classification model to choose for predicting which season tickets holder are more likely to not renew their season tickets in the next year is the Logistic Regression Model. The Logistic Regression model had a higher accuracy in the 10-fold cross validation and AUC score. Also, it has the lowest FPR and highest TPR scores."
   ]
  },
  {
   "cell_type": "markdown",
   "metadata": {},
   "source": [
    "## Final Analysis and Storytelling"
   ]
  },
  {
   "cell_type": "markdown",
   "metadata": {},
   "source": [
    "Fans likely to renew for next year: \n",
    "- More years as a ticket holder\n",
    "- Is a member of the team's \"backer\" club\n",
    "- Utilizes their tickets more (Goes to more games)\n",
    "- Paid a higher price on tickets"
   ]
  },
  {
   "cell_type": "markdown",
   "metadata": {},
   "source": [
    "Fans not likely to renew for next year:\n",
    "- Less years as a ticket holder\n",
    "- Higher in age\n",
    "- Not a member of the team's \"backer\" club\n",
    "- Paid a lower price on tickets "
   ]
  },
  {
   "cell_type": "markdown",
   "metadata": {},
   "source": [
    "Recommendations of actions for K-State Athletic Department to take: \n",
    "-  Upgrade lower priced seating (add cushions or sun shading)\n",
    "- Offer incentives to fans if they renew their season tickets\n",
    "- Try to increase membership in the \"backer\" club\n",
    "- Upsell season tickets to fans who live near-by\n",
    "- Add more benefits for season ticket holders (Free parking, free or discounted merchandise, opportunities to meet the team, etc.)"
   ]
  },
  {
   "cell_type": "markdown",
   "metadata": {},
   "source": [
    "Additional Variables to Improve Model Prediction: \n",
    "- How far away the ticket holder lives from the team\n",
    "- How far away the ticket holder works from the team\n",
    "- Number of years the ticket holder has been an actual fan of the team"
   ]
  },
  {
   "cell_type": "code",
   "execution_count": null,
   "metadata": {
    "collapsed": true
   },
   "outputs": [],
   "source": []
  }
 ],
 "metadata": {
  "kernelspec": {
   "display_name": "Python 2",
   "language": "python",
   "name": "python2"
  },
  "language_info": {
   "codemirror_mode": {
    "name": "ipython",
    "version": 2
   },
   "file_extension": ".py",
   "mimetype": "text/x-python",
   "name": "python",
   "nbconvert_exporter": "python",
   "pygments_lexer": "ipython2",
   "version": "2.7.14"
  }
 },
 "nbformat": 4,
 "nbformat_minor": 2
}
